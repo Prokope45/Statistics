{
 "cells": [
  {
   "cell_type": "markdown",
   "id": "ff13265f",
   "metadata": {},
   "source": [
    "<center><h1>Assignment 4</h1></center>"
   ]
  },
  {
   "cell_type": "code",
   "execution_count": 52,
   "id": "76adbe14",
   "metadata": {
    "vscode": {
     "languageId": "r"
    }
   },
   "outputs": [],
   "source": [
    "# install.packages(\"gamair\")\n",
    "library(gamair)\n",
    "# install.packages('lubridate')\n",
    "library(lubridate)\n",
    "# install.packages('msm')\n",
    "library(msm)\n",
    "# install.packages('mosaic')\n",
    "library('mosaic')"
   ]
  },
  {
   "cell_type": "markdown",
   "id": "6ddbc139",
   "metadata": {},
   "source": [
    "1. Read the two pages from [Wood (2006)](https://www.dropbox.com/s/g2q2l9lk5w1ccdk/Wood_2006.pdf?dl=1). Using the Hubble data (see code below), answer the following questions."
   ]
  },
  {
   "cell_type": "code",
   "execution_count": 53,
   "id": "66cc78c3",
   "metadata": {
    "vscode": {
     "languageId": "r"
    }
   },
   "outputs": [
    {
     "data": {
      "image/png": "[encoded data removed]",
      "text/plain": [
       "plot without title"
      ]
     },
     "metadata": {
      "image/png": {
       "height": 420,
       "width": 420
      }
     },
     "output_type": "display_data"
    }
   ],
   "source": [
    "data(hubble)\n",
    "\n",
    "# Figure 1.1 from Wood 2006\n",
    "plot(hubble$x,hubble$y,xlab=\"Distance (Mpc)\",\n",
    "     ylab=expression(\"Velocity (km\"*s^{-1}*\")\"))"
   ]
  },
  {
   "cell_type": "markdown",
   "id": "e39b79ec",
   "metadata": {},
   "source": [
    "(a) Fit a linear model that corresponds to Hubble's Law. Estimate all parameter(s) using maximum likelihood estimation. Please show all relevant R code.\n",
    "\n",
    "$y_i = \\beta x_i + \\epsilon_i$"
   ]
  },
  {
   "cell_type": "code",
   "execution_count": 109,
   "id": "4c7c3934",
   "metadata": {
    "vscode": {
     "languageId": "r"
    }
   },
   "outputs": [
    {
     "data": {
      "text/html": [
       "<table class=\"dataframe\">\n",
       "<caption>A matrix: 2 × 1 of type dbl</caption>\n",
       "<tbody>\n",
       "\t<tr><td> 6.696255</td></tr>\n",
       "\t<tr><td>76.126957</td></tr>\n",
       "</tbody>\n",
       "</table>\n"
      ],
      "text/latex": [
       "A matrix: 2 × 1 of type dbl\n",
       "\\begin{tabular}{l}\n",
       "\t  6.696255\\\\\n",
       "\t 76.126957\\\\\n",
       "\\end{tabular}\n"
      ],
      "text/markdown": [
       "\n",
       "A matrix: 2 × 1 of type dbl\n",
       "\n",
       "|  6.696255 |\n",
       "| 76.126957 |\n",
       "\n"
      ],
      "text/plain": [
       "     [,1]     \n",
       "[1,]  6.696255\n",
       "[2,] 76.126957"
      ]
     },
     "metadata": {},
     "output_type": "display_data"
    },
    {
     "data": {
      "text/html": [
       "<table class=\"dataframe\">\n",
       "<caption>A matrix: 1 × 1 of type dbl</caption>\n",
       "<tbody>\n",
       "\t<tr><td>64244.56</td></tr>\n",
       "</tbody>\n",
       "</table>\n"
      ],
      "text/latex": [
       "A matrix: 1 × 1 of type dbl\n",
       "\\begin{tabular}{l}\n",
       "\t 64244.56\\\\\n",
       "\\end{tabular}\n"
      ],
      "text/markdown": [
       "\n",
       "A matrix: 1 × 1 of type dbl\n",
       "\n",
       "| 64244.56 |\n",
       "\n"
      ],
      "text/plain": [
       "     [,1]    \n",
       "[1,] 64244.56"
      ]
     },
     "metadata": {},
     "output_type": "display_data"
    }
   ],
   "source": [
    "# 1.\n",
    "# a.\n",
    "# y_i = \\betax_i + \\epsilon_i\n",
    "\n",
    "x <- hubble$x\n",
    "y <- hubble$y\n",
    "n <- length(y)\n",
    "\n",
    "X <- matrix(data = cbind(rep(1, length(x)), x), nrow = length(x), byrow = FALSE)\n",
    "\n",
    "beta <- solve(t(X) %*% X) %*% t(X) %*% y\n",
    "beta\n",
    "\n",
    "sigma2 <- (1 / n) * t(y - X %*% beta) %*% (y - X %*% beta)\n",
    "sigma2"
   ]
  },
  {
   "cell_type": "markdown",
   "id": "121bacb4",
   "metadata": {},
   "source": [
    "(b) Using the parameter estimates from part a, what is the most likely age of the universe in years? Note that distance is measured in Mega parsecs. A Mega parsecs is $3.09x10^{19}$ km."
   ]
  },
  {
   "cell_type": "code",
   "execution_count": 110,
   "id": "f52f9c55",
   "metadata": {
    "vscode": {
     "languageId": "r"
    }
   },
   "outputs": [
    {
     "data": {
      "text/html": [
       "<strong>x:</strong> 76.5811720291694"
      ],
      "text/latex": [
       "\\textbf{x:} 76.5811720291694"
      ],
      "text/markdown": [
       "**x:** 76.5811720291694"
      ],
      "text/plain": [
       "       x \n",
       "76.58117 "
      ]
     },
     "metadata": {},
     "output_type": "display_data"
    },
    {
     "data": {
      "text/html": [
       "<strong>x:</strong> 2.47835508185014e-18"
      ],
      "text/latex": [
       "\\textbf{x:} 2.47835508185014e-18"
      ],
      "text/markdown": [
       "**x:** 2.47835508185014e-18"
      ],
      "text/plain": [
       "           x \n",
       "2.478355e-18 "
      ]
     },
     "metadata": {},
     "output_type": "display_data"
    },
    {
     "data": {
      "text/html": [
       "<strong>x:</strong> 403493432931926848"
      ],
      "text/latex": [
       "\\textbf{x:} 403493432931926848"
      ],
      "text/markdown": [
       "**x:** 403493432931926848"
      ],
      "text/plain": [
       "           x \n",
       "4.034934e+17 "
      ]
     },
     "metadata": {},
     "output_type": "display_data"
    },
    {
     "data": {
      "text/html": [
       "<strong>x:</strong> 12794692825.0865"
      ],
      "text/latex": [
       "\\textbf{x:} 12794692825.0865"
      ],
      "text/markdown": [
       "**x:** 12794692825.0865"
      ],
      "text/plain": [
       "          x \n",
       "12794692825 "
      ]
     },
     "metadata": {},
     "output_type": "display_data"
    }
   ],
   "source": [
    "# b.\n",
    "ml1 <- lm(y ~ x-1, data = hubble)\n",
    "beta <- coef(ml1)\n",
    "beta\n",
    "\n",
    "mega_parsecs <- 3.09 * 10^19  # in km\n",
    "\n",
    "distance <- beta / mega_parsecs\n",
    "distance\n",
    "age_s <- 1 / distance  # Age of the universe in seconds\n",
    "age_s\n",
    "\n",
    "year_in_seconds <- 365 * 24 * 60 * 60\n",
    "age_y <- age_s / year_in_seconds  # Age of the universe in years\n",
    "age_y"
   ]
  },
  {
   "cell_type": "markdown",
   "id": "d89ebaa7",
   "metadata": {},
   "source": [
    "(c) Calculate a 95% confidence interval for the estimated age from part b."
   ]
  },
  {
   "cell_type": "code",
   "execution_count": 111,
   "id": "ee316d0f",
   "metadata": {
    "vscode": {
     "languageId": "r"
    }
   },
   "outputs": [
    {
     "data": {
      "text/html": [
       "76.5811720291694"
      ],
      "text/latex": [
       "76.5811720291694"
      ],
      "text/markdown": [
       "76.5811720291694"
      ],
      "text/plain": [
       "[1] 76.58117"
      ]
     },
     "metadata": {},
     "output_type": "display_data"
    },
    {
     "data": {
      "text/html": [
       "<strong>x:</strong> 979832572298.326"
      ],
      "text/latex": [
       "\\textbf{x:} 979832572298.326"
      ],
      "text/markdown": [
       "**x:** 979832572298.326"
      ],
      "text/plain": [
       "           x \n",
       "979832572298 "
      ]
     },
     "metadata": {},
     "output_type": "display_data"
    },
    {
     "data": {
      "text/html": [
       "<style>\n",
       ".dl-inline {width: auto; margin:0; padding: 0}\n",
       ".dl-inline>dt, .dl-inline>dd {float: none; width: auto; display: inline-block}\n",
       ".dl-inline>dt::after {content: \":\\0020\"; padding-right: .5ex}\n",
       ".dl-inline>dt:not(:first-of-type) {padding-left: .5ex}\n",
       "</style><dl class=dl-inline><dt>x</dt><dd>11496364439.8583</dd><dt>x</dt><dd>14093021210.3146</dd></dl>\n"
      ],
      "text/latex": [
       "\\begin{description*}\n",
       "\\item[x] 11496364439.8583\n",
       "\\item[x] 14093021210.3146\n",
       "\\end{description*}\n"
      ],
      "text/markdown": [
       "x\n",
       ":   11496364439.8583x\n",
       ":   14093021210.3146\n",
       "\n"
      ],
      "text/plain": [
       "          x           x \n",
       "11496364440 14093021210 "
      ]
     },
     "metadata": {},
     "output_type": "display_data"
    }
   ],
   "source": [
    "# c.\n",
    "# Bootstrapping and deltamethod can estimate uncertainy for anything in the model (p-value, R2, CI, etc.)\n",
    "beta1.hat <- as.numeric(coef(ml1)[1])\n",
    "beta1.hat\n",
    "\n",
    "# Get constant\n",
    "constant <- beta1.hat * age_y\n",
    "constant\n",
    "\n",
    "age.se <- deltamethod(~ constant * (1 / x1), mean=coef(ml1), cov=vcov(ml1))\n",
    "\n",
    "age.ci <- c(\n",
    "    age_y - 1.96 * age.se,\n",
    "    age_y + 1.96 * age.se\n",
    ")\n",
    "age.ci"
   ]
  },
  {
   "cell_type": "markdown",
   "id": "6cef09e1",
   "metadata": {},
   "source": [
    "(d) Explain how to interpret the 95% confidence interval from part c.\n",
    "- We are 95% confident that the true age (estimated at 12794692825.0865) of the universe falls within the interval of $11496364439.8583$ and $14093021210.3146$."
   ]
  },
  {
   "cell_type": "markdown",
   "id": "bb88f335",
   "metadata": {},
   "source": [
    "2. In the R code below, I provide a data set that I obtained from the National Oceanic and Atmospheric Administration (NOAA). The documentation is available here [(link)](https://www.ncei.noaa.gov/data/daily-summaries/doc/GHCND_documentation.pdf). Please write a short 4-5 sentence description of the data (e.g., Where were the data collected? What is being measured?).\n",
    "   \n",
    "The Global Historical Climatology Network (GHCN) database serves as the primary data source for this analysis. This database aggregates climate data from 40 meteorological elements, including precipitation, snow depth, daily temperature (maximum and minimum), wind speed, and movement. The data was collected through the cooperation of over 100,000 stations worldwide, making it one of the largest climatological datasets available. The provided R code dataset consists of the following columns:\n",
    "\n",
    "- STATION\n",
    "- NAME\n",
    "- DATE\n",
    "- TMAX (Maximum daily temperature)\n",
    "- TMIN (Minimum daily temperature)\n",
    "- TOBS (Temperature at the time of observation)\n",
    "\n",
    "Notably, this dataset contains a subset of 47,410 observations from a single location in Manhattan, Kansas, spanning the period from 1893 to 2023."
   ]
  },
  {
   "cell_type": "markdown",
   "id": "c91c2a6d",
   "metadata": {},
   "source": [
    "3. I have always wondered if the temperature in Manhattan has increased over a long time period (i.e., perhaps a local effect of global climate change). Write out a linear model that enables you to determine if the temperature has increased over a long time period. Make sure to explain each component of your linear model and include distributional assumptions (e.g., $\\epsilon_i \\sim N(0, \\sigma^2)$).\n",
    "\n",
    "- $y_i = \\beta_0 + \\beta_1t_i + \\epsilon_i$\n",
    "    Where:\n",
    "    - $y_i$ is the observed temperature at time $t_i$\n",
    "    - $t_i$ is the time of the observation $i$\n",
    "    - $\\beta_0$ is the intercept of the baseline observed temperature\n",
    "    - $\\beta_1$ is the slope of the change in temperature per unit of time\n",
    "    - $\\epsilon_i$ is the random error term for the observation $i$\n",
    "\n",
    "Assumptions:\n",
    "- The TOBS response variable has a linear relationship with the number of days past.\n",
    "- Residuals follow normal distribution $\\epsilon_i \\sim N(0, \\sigma^2)$\n"
   ]
  },
  {
   "cell_type": "code",
   "execution_count": 57,
   "id": "a6d52390",
   "metadata": {
    "vscode": {
     "languageId": "r"
    }
   },
   "outputs": [
    {
     "data": {
      "text/html": [
       "<time datetime=\"1901-02-01\">1901-02-01</time>"
      ],
      "text/latex": [
       "1901-02-01"
      ],
      "text/markdown": [
       "1901-02-01"
      ],
      "text/plain": [
       "[1] \"1901-02-01\""
      ]
     },
     "metadata": {},
     "output_type": "display_data"
    }
   ],
   "source": [
    "url <- \"https://www.dropbox.com/s/asw6gtq7pp1h0bx/manhattan_temp_data.csv?dl=1\"\n",
    "df.temp <- read.csv(url)\n",
    "df.temp$year <- as.numeric(year(df.temp$DATE))\n",
    "df.temp$DATE <- ymd(df.temp$DATE)\n",
    "df.temp$days <- as.numeric(df.temp$DATE - min(df.temp$DATE))\n",
    "\n",
    "# Cleanup: remove rows with NA TOBS values\n",
    "df.temp <- subset(df.temp, !is.na(TOBS))\n",
    "min(df.temp$DATE)"
   ]
  },
  {
   "cell_type": "markdown",
   "id": "07c5d066",
   "metadata": {},
   "source": [
    "4. For the linear model you wrote out in question 3, estimate and quantify uncertainty for the parameters by fitting this model to the data from question 2. Please write 3-5 sentences explaining your estimates."
   ]
  },
  {
   "cell_type": "code",
   "execution_count": 58,
   "id": "f4135844",
   "metadata": {
    "vscode": {
     "languageId": "r"
    }
   },
   "outputs": [
    {
     "data": {
      "text/html": [
       "46.4298262254968"
      ],
      "text/latex": [
       "46.4298262254968"
      ],
      "text/markdown": [
       "46.4298262254968"
      ],
      "text/plain": [
       "[1] 46.42983"
      ]
     },
     "metadata": {},
     "output_type": "display_data"
    },
    {
     "data": {
      "text/html": [
       "0.000190284230431774"
      ],
      "text/latex": [
       "0.000190284230431774"
      ],
      "text/markdown": [
       "0.000190284230431774"
      ],
      "text/plain": [
       "[1] 0.0001902842"
      ]
     },
     "metadata": {},
     "output_type": "display_data"
    }
   ],
   "source": [
    "# Models TOBS regressed against days.\n",
    "ml2 <- lm(TOBS ~ days, data=df.temp)\n",
    "\n",
    "beta0.hat <- as.numeric(coef(ml2)[1])\n",
    "beta0.hat\n",
    "beta1.hat <- as.numeric(coef(ml2)[2])\n",
    "beta1.hat"
   ]
  },
  {
   "cell_type": "markdown",
   "id": "1255f4f6",
   "metadata": {},
   "source": [
    "The `intercept` estimate of $46.43$ represents the observed temperature when $x=0$. The `days` estimate represents how for every unit increase in days, the temperature increases by $1.903e-04$ units, or $0.0001903$ degrees."
   ]
  },
  {
   "cell_type": "code",
   "execution_count": 59,
   "id": "b480bcd5",
   "metadata": {
    "vscode": {
     "languageId": "r"
    }
   },
   "outputs": [
    {
     "data": {
      "text/html": [
       "<table class=\"dataframe\">\n",
       "<caption>A matrix: 2 × 2 of type dbl</caption>\n",
       "<thead>\n",
       "\t<tr><th></th><th scope=col>2.5 %</th><th scope=col>97.5 %</th></tr>\n",
       "</thead>\n",
       "<tbody>\n",
       "\t<tr><th scope=row>(Intercept)</th><td>4.565221e+01</td><td>47.207439239</td></tr>\n",
       "\t<tr><th scope=row>days</th><td>1.663215e-04</td><td> 0.000214247</td></tr>\n",
       "</tbody>\n",
       "</table>\n"
      ],
      "text/latex": [
       "A matrix: 2 × 2 of type dbl\n",
       "\\begin{tabular}{r|ll}\n",
       "  & 2.5 \\% & 97.5 \\%\\\\\n",
       "\\hline\n",
       "\t(Intercept) & 4.565221e+01 & 47.207439239\\\\\n",
       "\tdays & 1.663215e-04 &  0.000214247\\\\\n",
       "\\end{tabular}\n"
      ],
      "text/markdown": [
       "\n",
       "A matrix: 2 × 2 of type dbl\n",
       "\n",
       "| <!--/--> | 2.5 % | 97.5 % |\n",
       "|---|---|---|\n",
       "| (Intercept) | 4.565221e+01 | 47.207439239 |\n",
       "| days | 1.663215e-04 |  0.000214247 |\n",
       "\n"
      ],
      "text/plain": [
       "            2.5 %        97.5 %      \n",
       "(Intercept) 4.565221e+01 47.207439239\n",
       "days        1.663215e-04  0.000214247"
      ]
     },
     "metadata": {},
     "output_type": "display_data"
    }
   ],
   "source": [
    "# Quantify uncertainty for parameters\n",
    "confint(ml2, level=0.95)"
   ]
  },
  {
   "cell_type": "markdown",
   "id": "dafcd353",
   "metadata": {},
   "source": [
    "When using the 95% confidence interval, both intervals cover the estimates:\n",
    "\n",
    "\n",
    "| Coef. | 2.5 %\t| 97.5 % |\n",
    "| ----  | ----- | ------ |\n",
    "| (Intercept) |\t4.565221e+01 | 47.207439239 |\n",
    "| days |\t1.663215e-04 |\t0.000214247 |\n",
    "\n",
    "This means that the true temperatures from the intercept and days parameters will be covered in the interval 95% of the time.\n"
   ]
  },
  {
   "cell_type": "markdown",
   "id": "00e4a532",
   "metadata": {},
   "source": [
    "5. Using the idea of probabilistic thinking and the linear model you used in question 4, predict the temperature for January 1, 2050. Please write 3-5 sentences explaining your prediction."
   ]
  },
  {
   "cell_type": "code",
   "execution_count": 69,
   "id": "7b9fc37b",
   "metadata": {
    "vscode": {
     "languageId": "r"
    }
   },
   "outputs": [
    {
     "data": {
      "text/html": [
       "<dl>\n",
       "\t<dt>$par</dt>\n",
       "\t\t<dd><style>\n",
       ".list-inline {list-style: none; margin:0; padding: 0}\n",
       ".list-inline>li {display: inline-block}\n",
       ".list-inline>li:not(:last-child)::after {content: \"\\00b7\"; padding: 0 .5ex}\n",
       "</style>\n",
       "<ol class=list-inline><li>46.4320740509119</li><li>0.000190285681174732</li></ol>\n",
       "</dd>\n",
       "\t<dt>$value</dt>\n",
       "\t\t<dd>16241464.889601</dd>\n",
       "\t<dt>$counts</dt>\n",
       "\t\t<dd><style>\n",
       ".dl-inline {width: auto; margin:0; padding: 0}\n",
       ".dl-inline>dt, .dl-inline>dd {float: none; width: auto; display: inline-block}\n",
       ".dl-inline>dt::after {content: \":\\0020\"; padding-right: .5ex}\n",
       ".dl-inline>dt:not(:first-of-type) {padding-left: .5ex}\n",
       "</style><dl class=dl-inline><dt>function</dt><dd>101</dd><dt>gradient</dt><dd>&lt;NA&gt;</dd></dl>\n",
       "</dd>\n",
       "\t<dt>$convergence</dt>\n",
       "\t\t<dd>0</dd>\n",
       "\t<dt>$message</dt>\n",
       "\t\t<dd>NULL</dd>\n",
       "</dl>\n"
      ],
      "text/latex": [
       "\\begin{description}\n",
       "\\item[\\$par] \\begin{enumerate*}\n",
       "\\item 46.4320740509119\n",
       "\\item 0.000190285681174732\n",
       "\\end{enumerate*}\n",
       "\n",
       "\\item[\\$value] 16241464.889601\n",
       "\\item[\\$counts] \\begin{description*}\n",
       "\\item[function] 101\n",
       "\\item[gradient] <NA>\n",
       "\\end{description*}\n",
       "\n",
       "\\item[\\$convergence] 0\n",
       "\\item[\\$message] NULL\n",
       "\\end{description}\n"
      ],
      "text/markdown": [
       "$par\n",
       ":   1. 46.4320740509119\n",
       "2. 0.000190285681174732\n",
       "\n",
       "\n",
       "\n",
       "$value\n",
       ":   16241464.889601\n",
       "$counts\n",
       ":   function\n",
       ":   101gradient\n",
       ":   &lt;NA&gt;\n",
       "\n",
       "\n",
       "$convergence\n",
       ":   0\n",
       "$message\n",
       ":   NULL\n",
       "\n",
       "\n"
      ],
      "text/plain": [
       "$par\n",
       "[1] 4.643207e+01 1.902857e-04\n",
       "\n",
       "$value\n",
       "[1] 16241465\n",
       "\n",
       "$counts\n",
       "function gradient \n",
       "     101       NA \n",
       "\n",
       "$convergence\n",
       "[1] 0\n",
       "\n",
       "$message\n",
       "NULL\n"
      ]
     },
     "metadata": {},
     "output_type": "display_data"
    }
   ],
   "source": [
    "x <- as.numeric(df.temp$days)\n",
    "x.bar <- mean(x)\n",
    "y <- df.temp$TOBS\n",
    "y.bar <- mean(y)\n",
    "\n",
    "# Squared distance (with optimization)\n",
    "sqrd_dist <- optim(\n",
    "  par = c(0, 0),\n",
    "  method = c(\"Nelder-Mead\"),\n",
    "  fn = function(beta) {\n",
    "    sum((y - (beta[1] + beta[2] * x))^2)\n",
    "  }\n",
    ")\n",
    "sqrd_dist\n",
    "\n",
    "sqrd_dist_para_1 <- sqrd_dist[1]$par[1]\n",
    "sqrd_dist_para_2 <- sqrd_dist[1]$par[2]"
   ]
  },
  {
   "cell_type": "code",
   "execution_count": 74,
   "id": "34243dcf",
   "metadata": {
    "vscode": {
     "languageId": "r"
    }
   },
   "outputs": [
    {
     "data": {
      "text/html": [
       "54391"
      ],
      "text/latex": [
       "54391"
      ],
      "text/markdown": [
       "54391"
      ],
      "text/plain": [
       "[1] 54391"
      ]
     },
     "metadata": {},
     "output_type": "display_data"
    },
    {
     "data": {
      "text/html": [
       "56.7819025356868"
      ],
      "text/latex": [
       "56.7819025356868"
      ],
      "text/markdown": [
       "56.7819025356868"
      ],
      "text/plain": [
       "[1] 56.7819"
      ]
     },
     "metadata": {},
     "output_type": "display_data"
    },
    {
     "name": "stderr",
     "output_type": "stream",
     "text": [
      "Warning message in predict.lm(ml2, interval = \"prediction\"):\n",
      "\"predictions on current data refer to _future_ responses\n",
      "\"\n"
     ]
    },
    {
     "data": {
      "text/html": [
       "<table class=\"dataframe\">\n",
       "<caption>A matrix: 6 × 3 of type dbl</caption>\n",
       "<thead>\n",
       "\t<tr><th></th><th scope=col>fit</th><th scope=col>lwr</th><th scope=col>upr</th></tr>\n",
       "</thead>\n",
       "<tbody>\n",
       "\t<tr><th scope=row>47405</th><td>55.49383</td><td>11.70670</td><td>99.28095</td></tr>\n",
       "\t<tr><th scope=row>47406</th><td>55.49402</td><td>11.70689</td><td>99.28114</td></tr>\n",
       "\t<tr><th scope=row>47407</th><td>55.49421</td><td>11.70708</td><td>99.28133</td></tr>\n",
       "\t<tr><th scope=row>47408</th><td>55.49440</td><td>11.70727</td><td>99.28152</td></tr>\n",
       "\t<tr><th scope=row>47409</th><td>55.49459</td><td>11.70746</td><td>99.28171</td></tr>\n",
       "\t<tr><th scope=row>47410</th><td>55.49478</td><td>11.70765</td><td>99.28190</td></tr>\n",
       "</tbody>\n",
       "</table>\n"
      ],
      "text/latex": [
       "A matrix: 6 × 3 of type dbl\n",
       "\\begin{tabular}{r|lll}\n",
       "  & fit & lwr & upr\\\\\n",
       "\\hline\n",
       "\t47405 & 55.49383 & 11.70670 & 99.28095\\\\\n",
       "\t47406 & 55.49402 & 11.70689 & 99.28114\\\\\n",
       "\t47407 & 55.49421 & 11.70708 & 99.28133\\\\\n",
       "\t47408 & 55.49440 & 11.70727 & 99.28152\\\\\n",
       "\t47409 & 55.49459 & 11.70746 & 99.28171\\\\\n",
       "\t47410 & 55.49478 & 11.70765 & 99.28190\\\\\n",
       "\\end{tabular}\n"
      ],
      "text/markdown": [
       "\n",
       "A matrix: 6 × 3 of type dbl\n",
       "\n",
       "| <!--/--> | fit | lwr | upr |\n",
       "|---|---|---|---|\n",
       "| 47405 | 55.49383 | 11.70670 | 99.28095 |\n",
       "| 47406 | 55.49402 | 11.70689 | 99.28114 |\n",
       "| 47407 | 55.49421 | 11.70708 | 99.28133 |\n",
       "| 47408 | 55.49440 | 11.70727 | 99.28152 |\n",
       "| 47409 | 55.49459 | 11.70746 | 99.28171 |\n",
       "| 47410 | 55.49478 | 11.70765 | 99.28190 |\n",
       "\n"
      ],
      "text/plain": [
       "      fit      lwr      upr     \n",
       "47405 55.49383 11.70670 99.28095\n",
       "47406 55.49402 11.70689 99.28114\n",
       "47407 55.49421 11.70708 99.28133\n",
       "47408 55.49440 11.70727 99.28152\n",
       "47409 55.49459 11.70746 99.28171\n",
       "47410 55.49478 11.70765 99.28190"
      ]
     },
     "metadata": {},
     "output_type": "display_data"
    },
    {
     "data": {
      "text/html": [
       "<table class=\"dataframe\">\n",
       "<caption>A matrix: 6 × 3 of type dbl</caption>\n",
       "<thead>\n",
       "\t<tr><th></th><th scope=col>fit</th><th scope=col>lwr</th><th scope=col>upr</th></tr>\n",
       "</thead>\n",
       "<tbody>\n",
       "\t<tr><th scope=row>47405</th><td>55.49383</td><td>55.02367</td><td>55.96398</td></tr>\n",
       "\t<tr><th scope=row>47406</th><td>55.49402</td><td>55.02384</td><td>55.96419</td></tr>\n",
       "\t<tr><th scope=row>47407</th><td>55.49421</td><td>55.02401</td><td>55.96440</td></tr>\n",
       "\t<tr><th scope=row>47408</th><td>55.49440</td><td>55.02418</td><td>55.96461</td></tr>\n",
       "\t<tr><th scope=row>47409</th><td>55.49459</td><td>55.02435</td><td>55.96482</td></tr>\n",
       "\t<tr><th scope=row>47410</th><td>55.49478</td><td>55.02452</td><td>55.96503</td></tr>\n",
       "</tbody>\n",
       "</table>\n"
      ],
      "text/latex": [
       "A matrix: 6 × 3 of type dbl\n",
       "\\begin{tabular}{r|lll}\n",
       "  & fit & lwr & upr\\\\\n",
       "\\hline\n",
       "\t47405 & 55.49383 & 55.02367 & 55.96398\\\\\n",
       "\t47406 & 55.49402 & 55.02384 & 55.96419\\\\\n",
       "\t47407 & 55.49421 & 55.02401 & 55.96440\\\\\n",
       "\t47408 & 55.49440 & 55.02418 & 55.96461\\\\\n",
       "\t47409 & 55.49459 & 55.02435 & 55.96482\\\\\n",
       "\t47410 & 55.49478 & 55.02452 & 55.96503\\\\\n",
       "\\end{tabular}\n"
      ],
      "text/markdown": [
       "\n",
       "A matrix: 6 × 3 of type dbl\n",
       "\n",
       "| <!--/--> | fit | lwr | upr |\n",
       "|---|---|---|---|\n",
       "| 47405 | 55.49383 | 55.02367 | 55.96398 |\n",
       "| 47406 | 55.49402 | 55.02384 | 55.96419 |\n",
       "| 47407 | 55.49421 | 55.02401 | 55.96440 |\n",
       "| 47408 | 55.49440 | 55.02418 | 55.96461 |\n",
       "| 47409 | 55.49459 | 55.02435 | 55.96482 |\n",
       "| 47410 | 55.49478 | 55.02452 | 55.96503 |\n",
       "\n"
      ],
      "text/plain": [
       "      fit      lwr      upr     \n",
       "47405 55.49383 55.02367 55.96398\n",
       "47406 55.49402 55.02384 55.96419\n",
       "47407 55.49421 55.02401 55.96440\n",
       "47408 55.49440 55.02418 55.96461\n",
       "47409 55.49459 55.02435 55.96482\n",
       "47410 55.49478 55.02452 55.96503"
      ]
     },
     "metadata": {},
     "output_type": "display_data"
    }
   ],
   "source": [
    "# Calculate days since start\n",
    "start_date <- min(ymd(df.temp$DATE))\n",
    "target_date <- as.Date(\"2050-01-01\")\n",
    "x_2050 <- as.numeric(target_date - start_date)\n",
    "x_2050\n",
    "\n",
    "# squared distance Prediction\n",
    "tobs_pred_sqrd_dist <- sqrd_dist_para_1 + sqrd_dist_para_2 * x_2050\n",
    "tobs_pred_sqrd_dist  # 56.7819\n",
    "\n",
    "Ey.hat_prediction <- predict(ml2, interval=\"prediction\")\n",
    "tail(Ey.hat_prediction)\n",
    "Ey.hat_confidence <- predict(ml2, interval=\"confidence\")\n",
    "tail(Ey.hat_confidence)"
   ]
  },
  {
   "cell_type": "code",
   "execution_count": 68,
   "id": "fcea6c88",
   "metadata": {
    "vscode": {
     "languageId": "r"
    }
   },
   "outputs": [
    {
     "data": {
      "image/png": "[encoded data removed]",
      "text/plain": [
       "Plot with title \"Confidence interval of temperature in 2050\""
      ]
     },
     "metadata": {
      "image/png": {
       "height": 420,
       "width": 420
      }
     },
     "output_type": "display_data"
    }
   ],
   "source": [
    "plot(\n",
    "  x,\n",
    "  y,\n",
    "  pch = 16,\n",
    "  cex = 0.6,\n",
    "  col = \"gray\",\n",
    "  xlab = \"Days Since First Record\",\n",
    "  ylab = \"TOBS (Temperature at Observation)\",\n",
    "  main = \"Confidence interval of temperature in 2050\"\n",
    ")\n",
    "\n",
    "points(x, Ey.hat_confidence[,1], typ=\"l\", col=\"red\")  # Regression line\n",
    "\n",
    "points(x, Ey.hat_confidence[,2], typ=\"l\", col=\"red\", lty=2)\n",
    "points(x, Ey.hat_confidence[,3], typ=\"l\", col=\"red\", lty=2)\n",
    "points(x, Ey.hat_prediction[,2], typ=\"l\", col=\"blue\", lty=2)\n",
    "points(x, Ey.hat_prediction[,3], typ=\"l\", col=\"blue\", lty=2)"
   ]
  },
  {
   "cell_type": "code",
   "execution_count": 79,
   "id": "885cbdcf",
   "metadata": {
    "vscode": {
     "languageId": "r"
    }
   },
   "outputs": [
    {
     "data": {
      "text/html": [
       "<table class=\"dataframe\">\n",
       "<caption>A matrix: 1 × 3 of type dbl</caption>\n",
       "<thead>\n",
       "\t<tr><th></th><th scope=col>fit</th><th scope=col>lwr</th><th scope=col>upr</th></tr>\n",
       "</thead>\n",
       "<tbody>\n",
       "\t<tr><th scope=row>1</th><td>56.77958</td><td>12.99067</td><td>100.5685</td></tr>\n",
       "</tbody>\n",
       "</table>\n"
      ],
      "text/latex": [
       "A matrix: 1 × 3 of type dbl\n",
       "\\begin{tabular}{r|lll}\n",
       "  & fit & lwr & upr\\\\\n",
       "\\hline\n",
       "\t1 & 56.77958 & 12.99067 & 100.5685\\\\\n",
       "\\end{tabular}\n"
      ],
      "text/markdown": [
       "\n",
       "A matrix: 1 × 3 of type dbl\n",
       "\n",
       "| <!--/--> | fit | lwr | upr |\n",
       "|---|---|---|---|\n",
       "| 1 | 56.77958 | 12.99067 | 100.5685 |\n",
       "\n"
      ],
      "text/plain": [
       "  fit      lwr      upr     \n",
       "1 56.77958 12.99067 100.5685"
      ]
     },
     "metadata": {},
     "output_type": "display_data"
    }
   ],
   "source": [
    "x_2050_df <- data.frame(days=x_2050)\n",
    "predict(ml2, newdata = x_2050_df, interval = \"prediction\")"
   ]
  },
  {
   "cell_type": "markdown",
   "id": "523ebab1",
   "metadata": {},
   "source": [
    "I used optimized squared distance to predict the observed temperature as $56.7819$ on January 1st, 2050. When observing the confidence intervals for the last 6 rows of the dataset, we can see that the fitted value is around $55$ at $47410$ days, which gives some indication that a temperature of $56$ is possible in 2050. In fact, we can say we are 95% confident that the true observed temperature on January, 1st 2050 is $56$ degrees. The prediction intervals indicate that the estimate has a 95% probability of being any value between the interval bounds.\n",
    "\n",
    "When we predict the temperature for January 1st, 2050 using the fitted model, we can see that the fitted value is $56.77958$. However, the lower and upper bounds are wide, at $12.99067$ and $100.5685$ respectively. Despite this, it could be possible that the predicted TOBS on Jan 1st could be any value between those two bounds, but we would expect a temperature of $56$ degrees to be observed."
   ]
  },
  {
   "cell_type": "markdown",
   "id": "7395f691",
   "metadata": {},
   "source": [
    "6. Using the idea of probabilistic thinking how much has the temperature changed in the past 100 years (i.e., between the dates of January 1, 1924 to January 1, 2024)? Please write 3-5 sentences explaining your results."
   ]
  },
  {
   "cell_type": "code",
   "execution_count": 107,
   "id": "59f40556",
   "metadata": {
    "vscode": {
     "languageId": "r"
    }
   },
   "outputs": [
    {
     "data": {
      "text/html": [
       "48.0245749166632"
      ],
      "text/latex": [
       "48.0245749166632"
      ],
      "text/markdown": [
       "48.0245749166632"
      ],
      "text/plain": [
       "[1] 48.02457"
      ]
     },
     "metadata": {},
     "output_type": "display_data"
    },
    {
     "data": {
      "text/html": [
       "54.9747594215703"
      ],
      "text/latex": [
       "54.9747594215703"
      ],
      "text/markdown": [
       "54.9747594215703"
      ],
      "text/plain": [
       "[1] 54.97476"
      ]
     },
     "metadata": {},
     "output_type": "display_data"
    },
    {
     "name": "stdout",
     "output_type": "stream",
     "text": [
      "[1] \"Difference:\"\n"
     ]
    },
    {
     "data": {
      "text/html": [
       "6.95018450490709"
      ],
      "text/latex": [
       "6.95018450490709"
      ],
      "text/markdown": [
       "6.95018450490709"
      ],
      "text/plain": [
       "[1] 6.950185"
      ]
     },
     "metadata": {},
     "output_type": "display_data"
    }
   ],
   "source": [
    "start_date <- min(ymd(df.temp$DATE))\n",
    "date_1924 <- as.Date(\"1924-01-01\")\n",
    "date_2024 <- as.Date(\"2024-01-01\")\n",
    "x_1924 <- as.numeric(date_1924 - start_date)\n",
    "x_2024 <- as.numeric(date_2024 - start_date)\n",
    "\n",
    "# squared distance prediction\n",
    "tobs_1924 <- sqrd_dist_para_1 + sqrd_dist_para_2 * x_1924\n",
    "tobs_1924  # 48.0245749166632\n",
    "tobs_2024 <- sqrd_dist_para_1 + sqrd_dist_para_2 * x_2024\n",
    "tobs_2024 # 54.9747594215703\n",
    "\n",
    "print(\"Difference:\")\n",
    "tobs_2024 - tobs_1924"
   ]
  },
  {
   "cell_type": "code",
   "execution_count": 108,
   "id": "c0187eb0",
   "metadata": {
    "vscode": {
     "languageId": "r"
    }
   },
   "outputs": [
    {
     "data": {
      "text/html": [
       "<table class=\"dataframe\">\n",
       "<caption>A matrix: 1 × 3 of type dbl</caption>\n",
       "<thead>\n",
       "\t<tr><th></th><th scope=col>fit</th><th scope=col>lwr</th><th scope=col>upr</th></tr>\n",
       "</thead>\n",
       "<tbody>\n",
       "\t<tr><th scope=row>1</th><td>48.02231</td><td>4.233737</td><td>91.81089</td></tr>\n",
       "</tbody>\n",
       "</table>\n"
      ],
      "text/latex": [
       "A matrix: 1 × 3 of type dbl\n",
       "\\begin{tabular}{r|lll}\n",
       "  & fit & lwr & upr\\\\\n",
       "\\hline\n",
       "\t1 & 48.02231 & 4.233737 & 91.81089\\\\\n",
       "\\end{tabular}\n"
      ],
      "text/markdown": [
       "\n",
       "A matrix: 1 × 3 of type dbl\n",
       "\n",
       "| <!--/--> | fit | lwr | upr |\n",
       "|---|---|---|---|\n",
       "| 1 | 48.02231 | 4.233737 | 91.81089 |\n",
       "\n"
      ],
      "text/plain": [
       "  fit      lwr      upr     \n",
       "1 48.02231 4.233737 91.81089"
      ]
     },
     "metadata": {},
     "output_type": "display_data"
    },
    {
     "data": {
      "text/html": [
       "<table class=\"dataframe\">\n",
       "<caption>A matrix: 1 × 3 of type dbl</caption>\n",
       "<thead>\n",
       "\t<tr><th></th><th scope=col>fit</th><th scope=col>lwr</th><th scope=col>upr</th></tr>\n",
       "</thead>\n",
       "<tbody>\n",
       "\t<tr><th scope=row>1</th><td>54.97245</td><td>11.18588</td><td>98.75901</td></tr>\n",
       "</tbody>\n",
       "</table>\n"
      ],
      "text/latex": [
       "A matrix: 1 × 3 of type dbl\n",
       "\\begin{tabular}{r|lll}\n",
       "  & fit & lwr & upr\\\\\n",
       "\\hline\n",
       "\t1 & 54.97245 & 11.18588 & 98.75901\\\\\n",
       "\\end{tabular}\n"
      ],
      "text/markdown": [
       "\n",
       "A matrix: 1 × 3 of type dbl\n",
       "\n",
       "| <!--/--> | fit | lwr | upr |\n",
       "|---|---|---|---|\n",
       "| 1 | 54.97245 | 11.18588 | 98.75901 |\n",
       "\n"
      ],
      "text/plain": [
       "  fit      lwr      upr     \n",
       "1 54.97245 11.18588 98.75901"
      ]
     },
     "metadata": {},
     "output_type": "display_data"
    },
    {
     "name": "stdout",
     "output_type": "stream",
     "text": [
      "[1] \"Differences:\"\n"
     ]
    },
    {
     "data": {
      "text/html": [
       "<strong>fit:</strong> 6.95013151652056"
      ],
      "text/latex": [
       "\\textbf{fit:} 6.95013151652056"
      ],
      "text/markdown": [
       "**fit:** 6.95013151652056"
      ],
      "text/plain": [
       "     fit \n",
       "6.950132 "
      ]
     },
     "metadata": {},
     "output_type": "display_data"
    },
    {
     "data": {
      "text/html": [
       "<strong>lwr:</strong> 6.95214249695574"
      ],
      "text/latex": [
       "\\textbf{lwr:} 6.95214249695574"
      ],
      "text/markdown": [
       "**lwr:** 6.95214249695574"
      ],
      "text/plain": [
       "     lwr \n",
       "6.952142 "
      ]
     },
     "metadata": {},
     "output_type": "display_data"
    },
    {
     "data": {
      "text/html": [
       "<strong>upr:</strong> 6.94812053608538"
      ],
      "text/latex": [
       "\\textbf{upr:} 6.94812053608538"
      ],
      "text/markdown": [
       "**upr:** 6.94812053608538"
      ],
      "text/plain": [
       "     upr \n",
       "6.948121 "
      ]
     },
     "metadata": {},
     "output_type": "display_data"
    }
   ],
   "source": [
    "# model prediction\n",
    "x_1924_df <- data.frame(days = x_1924)\n",
    "pred_1924 <- predict(ml2, newdata = x_1924_df, interval = \"prediction\", level = 0.95)\n",
    "pred_1924\n",
    "\n",
    "x_2024_df <- data.frame(days = x_2024)\n",
    "pred_2024 <- predict(ml2, newdata = x_2024_df, interval = \"prediction\", level = 0.95)\n",
    "pred_2024\n",
    "\n",
    "print(\"Differences:\")\n",
    "pred_2024[1,][\"fit\"] - pred_1924[1,][\"fit\"]\n",
    "pred_2024[1,][\"lwr\"] - pred_1924[1,][\"lwr\"]\n",
    "pred_2024[1,][\"upr\"] - pred_1924[1,][\"upr\"]"
   ]
  },
  {
   "cell_type": "markdown",
   "id": "a4e55d95",
   "metadata": {},
   "source": [
    "Using the plot and calculations above, we can see that there is an increasing trend in temperature over the past 100 years and more. Using the squared distance prediction, I estimated that the observed temperature on January 1st, 1924 was about $48$ degrees while the observed temperature on January 1st, 2024 was about $54$, with a difference of about $6.95$. Further, when using the model prediction of the temperature differences between 1924 and 2024, we see similar results. The prediction interval for 1924 shows a lower bound of $4.23$ and an upper bound of $91.81$, with the fitted value being $48.02$. The prediction interval for 2024 shows a lower bound of $54.97$ and an upper bound of $98.76$, with the fitted value being $54.97$. When taking the differences for all three, we see that the average temperature difference is $6.95$, about the same when using the squared distance prediction.\n",
    "\n",
    "Given all of the statistics calculated, it is very likely that the temperature is increasing over time."
   ]
  },
  {
   "cell_type": "markdown",
   "id": "485e8e7f",
   "metadata": {},
   "source": [
    "7. The linear model used to answer questions requires the use of data and assumptions to enable estimation, prediction, and statistical inference. Write a list that contains all known assumptions about the data and the model that are required to obtain reliable estimation, prediction, and statistical inference. For each item on your list provide a short (e.g., 1 sentence) explanation of the assumption.\n",
    "\n",
    "- Linearity: We assume there to be a linear relationship between the response and predictor variables, indicating the directionality and strength of the relationship.\n",
    "- Homoscedasticity: We assume that the residuals to have constant variance across all the predictor variables.\n",
    "- Normality: We assume that the residuals are normally distributed ($\\epsilon \\sim N(0, \\sigma^2)$).\n",
    "- Independence of Errors: We expect the residuals to be independent of each other.\n",
    "- No Multicollinearity: We assume that the predictor variables are not highly correlated with each other."
   ]
  }
 ],
 "metadata": {
  "kernelspec": {
   "display_name": "R",
   "language": "R",
   "name": "ir"
  },
  "language_info": {
   "codemirror_mode": "r",
   "file_extension": ".r",
   "mimetype": "text/x-r-source",
   "name": "R",
   "pygments_lexer": "r",
   "version": "4.4.2"
  }
 },
 "nbformat": 4,
 "nbformat_minor": 5
}
