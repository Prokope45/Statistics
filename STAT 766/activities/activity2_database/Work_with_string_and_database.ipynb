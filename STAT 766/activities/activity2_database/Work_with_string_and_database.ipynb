{
  "cells": [
    {
      "cell_type": "markdown",
      "metadata": {
        "id": "Sq5c9_ziJZvn"
      },
      "source": [
        "There are hundreds of output files from a simulation study. These files have .out extension as the four example files in this activity. In each file, there are 10 rows of the trt_eff and power. The first row of each file contains the value of i and j.\n",
        "\n",
        "(1) Create a database named output.sqlite. The variables of the database are i, j, trt_eff_size, power. Extract the values of i, j and the trt_eff, power table from all .out files and enter them in a table named power_table in the output.sqlite file.\n",
        "\n",
        "(2) For all rows with j =3, calculate the average trt_eff and average power."
      ]
    },
    {
      "cell_type": "code",
      "execution_count": 1,
      "metadata": {
        "colab": {
          "base_uri": "https://localhost:8080/"
        },
        "id": "b-ftIx0IPpZn",
        "outputId": "75aa89dd-f264-4947-f87f-3f961b2d4ad5"
      },
      "outputs": [
        {
          "data": {
            "text/plain": [
              "['slurm-11680020.out',\n",
              " 'slurm-11680029.out',\n",
              " 'slurm-11680040.out',\n",
              " 'slurm-11680051.out']"
            ]
          },
          "execution_count": 1,
          "metadata": {},
          "output_type": "execute_result"
        }
      ],
      "source": [
        "folder = '/content/drive/MyDrive/stat766/day7/'\n",
        "folder = 'C:/Users/everyday use/Dropbox/stat766Fall2021/Module1_obtain_data/Lesson2work_with_text_data_and_database/activity2_database/'\n",
        "import os\n",
        "allfiles = os.listdir(folder)\n",
        "#print(allfiles)\n",
        "outfiles = [file for file in allfiles if '.out' in file]\n",
        "outfiles"
      ]
    },
    {
      "cell_type": "code",
      "execution_count": 4,
      "metadata": {
        "colab": {
          "base_uri": "https://localhost:8080/"
        },
        "id": "xVWuqFdDQ0wa",
        "outputId": "857fd1e7-02db-47f6-c878-610c20e8750f"
      },
      "outputs": [
        {
          "data": {
            "text/plain": [
              "<sqlite3.Cursor at 0x273caa29240>"
            ]
          },
          "execution_count": 4,
          "metadata": {},
          "output_type": "execute_result"
        }
      ],
      "source": [
        "# import the sqlite3 module, make a connection to the target database, and create the table\n",
        "import sqlite3\n",
        "conn = sqlite3.connect(folder + 'output.sqlite')\n",
        "cur = conn.cursor()\n",
        "sql_command = \"\"\"CREATE TABLE IF NOT EXISTS power_table (i INTEGER, j INTEGER, trt_eff_size REAL, power REAL)\"\"\"\n",
        "cur.execute(sql_command)"
      ]
    },
    {
      "cell_type": "code",
      "execution_count": 2,
      "metadata": {
        "colab": {
          "base_uri": "https://localhost:8080/"
        },
        "id": "8On2Ipe_UHlf",
        "outputId": "fb34e65d-a543-4ca5-a4b2-9a34589f679c"
      },
      "outputs": [
        {
          "name": "stdout",
          "output_type": "stream",
          "text": [
            "['>', 'i', '=', '68', ';', 'j=', '1']\n",
            "68 1\n",
            "length: 2\n"
          ]
        },
        {
          "data": {
            "text/plain": [
              "['1  2.720000   100',\n",
              " '2  2.724444   100',\n",
              " '3  2.728889   100',\n",
              " '4  2.733333   100',\n",
              " '5  2.737778   100',\n",
              " '6  2.742222   100',\n",
              " '7  2.746667   100',\n",
              " '8  2.751111   100',\n",
              " '9  2.755556   100',\n",
              " '10 2.760000   100']"
            ]
          },
          "execution_count": 2,
          "metadata": {},
          "output_type": "execute_result"
        }
      ],
      "source": [
        "# Using one .out file to figure out how to\n",
        "# extract the value of i, j, trt_eff, and power from one .out file\n",
        "file = outfiles[0]\n",
        "file_connection = open(folder + file, 'r')\n",
        "for k, line in enumerate(file_connection):\n",
        "    if k==0:\n",
        "      first_row = line.split()\n",
        "      print(first_row)\n",
        "      print(first_row[3], first_row[6])\n",
        "    else:\n",
        "      break\n",
        "\n",
        "content = file_connection.read()\n",
        "print('length:', len(content.split('trt_eff power')))\n",
        "file_connection.close()\n",
        "\n",
        "content.split('trt_eff power')[1].split('\\n')[1:11]"
      ]
    },
    {
      "cell_type": "code",
      "execution_count": 3,
      "metadata": {
        "colab": {
          "base_uri": "https://localhost:8080/"
        },
        "id": "Ydx4JQtkQ-BS",
        "outputId": "a3a8d36a-b8e1-4846-8861-84d18f38e9fe"
      },
      "outputs": [
        {
          "data": {
            "text/plain": [
              "('68',\n",
              " '1',\n",
              " ['1  2.720000   100',\n",
              "  '2  2.724444   100',\n",
              "  '3  2.728889   100',\n",
              "  '4  2.733333   100',\n",
              "  '5  2.737778   100',\n",
              "  '6  2.742222   100',\n",
              "  '7  2.746667   100',\n",
              "  '8  2.751111   100',\n",
              "  '9  2.755556   100',\n",
              "  '10 2.760000   100'])"
            ]
          },
          "execution_count": 3,
          "metadata": {},
          "output_type": "execute_result"
        }
      ],
      "source": [
        "# Collect the code and put them in a function to extract the value of i, j, trt_eff, and power from one .out file\n",
        "\n",
        "def extract(file):\n",
        "  file_connection = open(folder + file, 'r')\n",
        "  for k, line in enumerate(file_connection):\n",
        "    if k==0:\n",
        "      first_row = line.split()\n",
        "      i, j = first_row[3], first_row[6]\n",
        "\n",
        "    else:\n",
        "      break\n",
        "\n",
        "  content = file_connection.read()\n",
        "  file_connection.close()\n",
        "  out_table = content.split('trt_eff power')[1].split('\\n')[1:11]\n",
        "  return i, j, out_table\n",
        "\n",
        "extract(file)\n"
      ]
    },
    {
      "cell_type": "code",
      "execution_count": 5,
      "metadata": {
        "colab": {
          "base_uri": "https://localhost:8080/"
        },
        "id": "L2DpFzhiW6dr",
        "outputId": "947e8718-f4fb-4451-b887-d8026982b4d7"
      },
      "outputs": [
        {
          "name": "stdout",
          "output_type": "stream",
          "text": [
            "[(68, 1, 2.72, 100.0), (68, 1, 2.724444, 100.0), (68, 1, 2.728889, 100.0), (68, 1, 2.733333, 100.0), (68, 1, 2.737778, 100.0), (68, 1, 2.742222, 100.0), (68, 1, 2.746667, 100.0), (68, 1, 2.751111, 100.0), (68, 1, 2.755556, 100.0), (68, 1, 2.76, 100.0), (40, 2, 1.6, 100.0), (40, 2, 1.604444, 100.0), (40, 2, 1.608889, 100.0), (40, 2, 1.613333, 100.0), (40, 2, 1.617778, 100.0), (40, 2, 1.622222, 100.0), (40, 2, 1.626667, 100.0), (40, 2, 1.631111, 100.0), (40, 2, 1.635556, 100.0), (40, 2, 1.64, 100.0), (20, 3, 0.8, 97.0), (20, 3, 0.8044444, 80.0), (20, 3, 0.8088889, 80.0), (20, 3, 0.8133333, 79.0), (20, 3, 0.8177778, 80.0), (20, 3, 0.8222222, 80.0), (20, 3, 0.8266667, 81.0), (20, 3, 0.8311111, 79.0), (20, 3, 0.8355556, 79.0), (20, 3, 0.84, 79.0), (56, 3, 2.24, 100.0), (56, 3, 2.244444, 100.0), (56, 3, 2.248889, 100.0), (56, 3, 2.253333, 100.0), (56, 3, 2.257778, 100.0), (56, 3, 2.262222, 100.0), (56, 3, 2.266667, 100.0), (56, 3, 2.271111, 100.0), (56, 3, 2.275556, 100.0), (56, 3, 2.28, 100.0)] \n",
            " 40\n"
          ]
        }
      ],
      "source": [
        "#Loop through all the .out files and apply the extract( ) function to each file.\n",
        "for file in outfiles:\n",
        "    i, j, outtable = extract(file)\n",
        "    for row in outtable:\n",
        "      sql_command2  = \"\"\"INSERT INTO power_table (i, j, trt_eff_size, power) VALUES (?, ?, ?, ?)\"\"\"\n",
        "      one_row_out_table = row.split()\n",
        "      # # Note: The extracted values are strings. We need to convert them to numerical values.\n",
        "      values = (int(i), int(j), float(one_row_out_table[1]), float(one_row_out_table[2]) )\n",
        "      cur.execute(sql_command2, values)\n",
        "    conn.commit()\n",
        "\n",
        "# check to see what is in the power_table\n",
        "cur.execute('SELECT * FROM power_table')\n",
        "in_table = cur.fetchall()\n",
        "print(in_table, '\\n', len(in_table))\n",
        "conn.close()\n",
        "\n",
        "# Note: We only have four .out files and each contains 10 rows of the trt_eff power output. The resulting database should have 40 rows.\n",
        "# but if you execulte this cell k times, you will end up having 40 k rows. For example, twice leads to 80 rows.\n",
        "# If this happens, you'd better delete the table and rerun the code.\n",
        "\n"
      ]
    },
    {
      "cell_type": "markdown",
      "metadata": {
        "id": "NuEP58txfeOF"
      },
      "source": [
        "Select all rows from the database such that j = 3. Calculate average trt_eff and average power for these rows.\n",
        "\n",
        "We stored the values in the database as text. So here we need to convert to numerical value first.\n",
        "\n",
        "If the amount of data is not too large, we can directly work with the data in python using those rows we selected from the data base."
      ]
    },
    {
      "cell_type": "code",
      "execution_count": 6,
      "metadata": {
        "colab": {
          "base_uri": "https://localhost:8080/"
        },
        "id": "ZZGd5H2Dat4a",
        "outputId": "554a18bf-e41a-4f17-adb0-5cc57a0cb322"
      },
      "outputs": [
        {
          "name": "stdout",
          "output_type": "stream",
          "text": [
            "[[ 20.          3.          0.8        97.       ]\n",
            " [ 20.          3.          0.8044444  80.       ]\n",
            " [ 20.          3.          0.8088889  80.       ]\n",
            " [ 20.          3.          0.8133333  79.       ]\n",
            " [ 20.          3.          0.8177778  80.       ]\n",
            " [ 20.          3.          0.8222222  80.       ]\n",
            " [ 20.          3.          0.8266667  81.       ]\n",
            " [ 20.          3.          0.8311111  79.       ]\n",
            " [ 20.          3.          0.8355556  79.       ]\n",
            " [ 20.          3.          0.84       79.       ]\n",
            " [ 56.          3.          2.24      100.       ]\n",
            " [ 56.          3.          2.244444  100.       ]\n",
            " [ 56.          3.          2.248889  100.       ]\n",
            " [ 56.          3.          2.253333  100.       ]\n",
            " [ 56.          3.          2.257778  100.       ]\n",
            " [ 56.          3.          2.262222  100.       ]\n",
            " [ 56.          3.          2.266667  100.       ]\n",
            " [ 56.          3.          2.271111  100.       ]\n",
            " [ 56.          3.          2.275556  100.       ]\n",
            " [ 56.          3.          2.28      100.       ]]\n",
            "[38.    3.    1.54 90.7 ]\n",
            "[ 1.54 90.7 ]\n"
          ]
        }
      ],
      "source": [
        "\n",
        "import numpy as np\n",
        "data_array = np.array(in_table, dtype ='float')\n",
        "#print(data_array)\n",
        "sub_array = data_array[data_array[:,1]== 3.0, :]\n",
        "print( sub_array)\n",
        "\n",
        "#compute average of each column\n",
        "print(np.mean(sub_array, axis =0))\n",
        "\n",
        "# take out only the average for trt_eff and power\n",
        "print(np.mean(sub_array, axis =0)[2:])"
      ]
    },
    {
      "cell_type": "markdown",
      "metadata": {
        "id": "tKxs2eDcgxmP"
      },
      "source": [
        "We could also do this in the database. SQLite AVG function can be used to calculate the average value of a set of values.\n"
      ]
    },
    {
      "cell_type": "code",
      "execution_count": 7,
      "metadata": {
        "colab": {
          "base_uri": "https://localhost:8080/"
        },
        "id": "sTBXE2-tjsns",
        "outputId": "1db5904f-33dc-4f57-d50f-53372d24706c"
      },
      "outputs": [
        {
          "name": "stdout",
          "output_type": "stream",
          "text": [
            "average of trt_eff_size for all rows with j =3 \n",
            " (1.5399999999999998,)\n",
            "average of power for all rows with j =3 \n",
            " (90.7,)\n"
          ]
        }
      ],
      "source": [
        "import sqlite3\n",
        "conn = sqlite3.connect(folder + 'output.sqlite')\n",
        "cur = conn.cursor()\n",
        "\n",
        "cur.execute(\"\"\"SELECT AVG(trt_eff_size) FROM power_table WHERE j = 3 \"\"\")\n",
        "print('average of trt_eff_size for all rows with j =3 \\n',   cur.fetchone())\n",
        "\n",
        "cur.execute(\"\"\"SELECT AVG(power) FROM power_table WHERE j = 3 \"\"\")\n",
        "print('average of power for all rows with j =3 \\n',   cur.fetchone())\n",
        "conn.close()"
      ]
    }
  ],
  "metadata": {
    "colab": {
      "provenance": []
    },
    "kernelspec": {
      "display_name": "Python 3",
      "name": "python3"
    },
    "language_info": {
      "codemirror_mode": {
        "name": "ipython",
        "version": 3
      },
      "file_extension": ".py",
      "mimetype": "text/x-python",
      "name": "python",
      "nbconvert_exporter": "python",
      "pygments_lexer": "ipython3",
      "version": "3.10.1"
    }
  },
  "nbformat": 4,
  "nbformat_minor": 0
}
