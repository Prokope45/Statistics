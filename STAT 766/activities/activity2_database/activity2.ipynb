{
 "cells": [
  {
   "cell_type": "code",
   "execution_count": 5,
   "id": "e1f8c8ff",
   "metadata": {},
   "outputs": [],
   "source": [
    "import pandas as pd\n",
    "import numpy as np\n",
    "import sqlite3\n",
    "import os\n",
    "import glob"
   ]
  },
  {
   "cell_type": "code",
   "execution_count": 10,
   "id": "5398a549",
   "metadata": {},
   "outputs": [],
   "source": [
    "file_names = glob.glob(\"*.out\")\n",
    "file_1 = file_names[0]"
   ]
  },
  {
   "cell_type": "code",
   "execution_count": 42,
   "id": "807eaed5",
   "metadata": {},
   "outputs": [],
   "source": [
    "connection = sqlite3.connect(\"output.sqlite\")\n",
    "cursor = connection.cursor()"
   ]
  },
  {
   "cell_type": "code",
   "execution_count": 43,
   "id": "ad5ccc82",
   "metadata": {},
   "outputs": [
    {
     "data": {
      "text/plain": [
       "<sqlite3.Cursor at 0x10cffeb40>"
      ]
     },
     "execution_count": 43,
     "metadata": {},
     "output_type": "execute_result"
    }
   ],
   "source": [
    "cursor.execute('''\n",
    "CREATE TABLE IF NOT EXISTS power_table (i, j, trt_effect_size, power)\n",
    "''')"
   ]
  },
  {
   "cell_type": "code",
   "execution_count": 39,
   "id": "4ce84b97",
   "metadata": {},
   "outputs": [
    {
     "data": {
      "text/plain": [
       "['1  1.600000   100',\n",
       " '2  1.604444   100',\n",
       " '3  1.608889   100',\n",
       " '4  1.613333   100',\n",
       " '5  1.617778   100',\n",
       " '6  1.622222   100',\n",
       " '7  1.626667   100',\n",
       " '8  1.631111   100',\n",
       " '9  1.635556   100',\n",
       " '10 1.640000   100']"
      ]
     },
     "execution_count": 39,
     "metadata": {},
     "output_type": "execute_result"
    }
   ],
   "source": [
    "with open(file_1, 'r') as reader:\n",
    "    file_content = reader.read()\n",
    "lines = file_content.split('\\n')\n",
    "lines[-12:-2]"
   ]
  },
  {
   "cell_type": "code",
   "execution_count": null,
   "id": "b635840d",
   "metadata": {},
   "outputs": [],
   "source": [
    "connection = sqlite3.connect(\"output.sqlite\")\n",
    "cursor = connection.cursor()\n",
    "# cursor.execute(\"DROP TABLE IF EXISTS power_table\")\n",
    "cursor.execute('''\n",
    "CREATE TABLE IF NOT EXISTS power_table (i, j, trt_effect_size, power)\n",
    "''')\n",
    "\n",
    "for file in file_names:\n",
    "    with open(file, 'r') as reader:\n",
    "        file_content = reader.read()\n",
    "\n",
    "    lines = file_content.split('\\n')\n",
    "    i = int(lines[0].split()[3])\n",
    "    j = int(lines[0].split()[6])\n",
    "\n",
    "    for row in lines[-12:-2]:\n",
    "        one = row.split()\n",
    "        trt_effect_size = float(one[1])\n",
    "        power = float(one[2])\n",
    "        value = (i, j, trt_effect_size, power)\n",
    "        cursor.execute('''\n",
    "        INSERT INTO power_table (i, j, trt_effect_size, power)\n",
    "        VALUES (?, ?, ?, ?)\n",
    "        ''', value)\n",
    "connection.commit()\n",
    "connection.close()"
   ]
  },
  {
   "cell_type": "code",
   "execution_count": 56,
   "id": "03f27bd8",
   "metadata": {},
   "outputs": [
    {
     "data": {
      "text/plain": [
       "array([38.  ,  3.  ,  1.54, 90.7 ])"
      ]
     },
     "execution_count": 56,
     "metadata": {},
     "output_type": "execute_result"
    }
   ],
   "source": [
    "connection = sqlite3.connect(\"output.sqlite\")\n",
    "cursor = connection.cursor()\n",
    "cursor.execute('''\n",
    "SELECT * FROM power_table WHERE j = 3\n",
    "''')\n",
    "\n",
    "rows = cursor.fetchall()\n",
    "np.array(rows).mean(axis=0)\n",
    "\n",
    "# connection.commit()\n",
    "# connection.close()"
   ]
  }
 ],
 "metadata": {
  "kernelspec": {
   "display_name": ".venv",
   "language": "python",
   "name": "python3"
  },
  "language_info": {
   "codemirror_mode": {
    "name": "ipython",
    "version": 3
   },
   "file_extension": ".py",
   "mimetype": "text/x-python",
   "name": "python",
   "nbconvert_exporter": "python",
   "pygments_lexer": "ipython3",
   "version": "3.12.6"
  }
 },
 "nbformat": 4,
 "nbformat_minor": 5
}
