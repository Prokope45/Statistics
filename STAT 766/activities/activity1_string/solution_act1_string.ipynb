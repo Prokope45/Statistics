{
 "cells": [
  {
   "cell_type": "code",
   "execution_count": 25,
   "metadata": {},
   "outputs": [
    {
     "name": "stdout",
     "output_type": "stream",
     "text": [
      "        v         u     usqrt\n",
      "0      66  0.226756  0.476189\n",
      "1      66  0.175974  0.419493\n",
      "2      66  0.136741  0.369785\n",
      "3      66  0.106207  0.325894\n",
      "4      66  0.082566  0.287344\n",
      "...   ...       ...       ...\n",
      "2223  297  0.023147  0.152142\n",
      "2224  297  0.018289  0.135236\n",
      "2225  297  0.014453  0.120219\n",
      "2226  297  0.011436  0.106940\n",
      "2227  297  0.009047  0.095118\n",
      "\n",
      "[2228 rows x 3 columns]\n"
     ]
    }
   ],
   "source": [
    "with open('example_text_file_dat2.txt') as file:\n",
    "    whole = file.read() \n",
    "lines = whole.split('\\n')  \n",
    "v = []\n",
    "u = [] \n",
    "for line in lines:\n",
    "    if (line.startswith('it=') and 'U_beta_til**2 sum' in line):\n",
    "        l1 = line.find('v=')\n",
    "        l2 = line.find(' epoch')\n",
    "        v.append( int(line[l1+3: l2]))\n",
    "        u1 = line.find('sum is')\n",
    "        u2 = line.find('change')\n",
    "        u.append(float(line[(u1+len('sum is')):u2]))\n",
    "import pandas as pd\n",
    "import numpy as np\n",
    "dat1 = pd.DataFrame({'v':v, 'u':u})\n",
    "dat1 = dat1.assign(usqrt = np.sqrt(u))\n",
    "print(dat1)\n",
    "dat1.to_csv('out1.csv', index=None)\n"
   ]
  },
  {
   "cell_type": "code",
   "execution_count": 24,
   "metadata": {},
   "outputs": [
    {
     "name": "stdout",
     "output_type": "stream",
     "text": [
      "67 1\n",
      "68 1\n"
     ]
    }
   ],
   "source": [
    "import glob\n",
    "import numpy as np\n",
    "import pandas as pd\n",
    "\n",
    "folder = 'C:/Users/everyday use/Dropbox/stat766Fall2021/Module1_obtain_data/Lesson2work_with_text_data_and_database/activity1_string/'\n",
    "slurmfiles = glob.glob(folder + '*.out')\n",
    "all_result = []\n",
    "for filename in slurmfiles:\n",
    "    with open(filename, 'r') as file:\n",
    "        content = file.read()\n",
    "        \n",
    "    temp = content.split('\\n')\n",
    "    row1 = temp[0].split()\n",
    "    #print(row1)\n",
    "    i = int(row1[3])\n",
    "    j= int(row1[6])\n",
    "    print(i, j)\n",
    "\n",
    "    trt_power = temp[ -12:-2]    \n",
    "    #print(trt_power)\n",
    "\n",
    "    result = np.array([one.split()[1:] for one in trt_power], dtype= float)\n",
    "    #print(result)\n",
    "    result_df1 = pd.DataFrame(result, columns=['trt_eff', 'power'])\n",
    "    result_df1['i'] = i\n",
    "    result_df1['j'] = j\n",
    "    #print(result_df1)\n",
    "    all_result.append(result_df1)\n",
    "final  = pd.concat(all_result, axis=0) \n",
    "final.to_csv('out2.csv', index=None)   "
   ]
  }
 ],
 "metadata": {
  "kernelspec": {
   "display_name": "Python 3",
   "language": "python",
   "name": "python3"
  },
  "language_info": {
   "codemirror_mode": {
    "name": "ipython",
    "version": 3
   },
   "file_extension": ".py",
   "mimetype": "text/x-python",
   "name": "python",
   "nbconvert_exporter": "python",
   "pygments_lexer": "ipython3",
   "version": "3.10.1"
  }
 },
 "nbformat": 4,
 "nbformat_minor": 2
}
