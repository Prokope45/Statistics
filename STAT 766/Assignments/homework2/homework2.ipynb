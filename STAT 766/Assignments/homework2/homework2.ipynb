{
 "cells": [
  {
   "cell_type": "code",
   "execution_count": null,
   "id": "0fa0a68a",
   "metadata": {},
   "outputs": [],
   "source": [
    "import numpy as np\n",
    "import pandas as pd\n",
    "import os\n",
    "\n",
    "\n",
    "# Note: Compress your .py file and hw1_1_dat.txt together into a zip file \n",
    "#       and submit the zip file to gradescope. \n",
    "\n",
    "class homework2:\n",
    "\n",
    "    file_name = os.getcwd()+ '/' + 'hw2_data_files/' + 'hw1_1_dat.txt'   \n",
    "    def __init__(self):\n",
    "        self.hw_a, self.hw_b = self.hw_ab_fun(self.file_name)\n",
    "        \n",
    "\n",
    "    def hw_ab_fun(self, file_name):\n",
    "        #fill in your code to get answer to part a and b here\n",
    "        # Assign your answer to part a to variable answer_1a\n",
    "        # and assign your answer to part b to variable answer_1b.\n",
    "        lines = []\n",
    "        with open(file_name, 'r') as reader:\n",
    "            lines = reader.readlines()\n",
    "            lines = [line.rstrip('\\n') for line in lines]\n",
    "\n",
    "        answer_a = self.__process_answer_a(lines)\n",
    "        print(answer_a)\n",
    "\n",
    "        # return answer_a, answer_b\n",
    "        return answer_a, 1\n",
    "    \n",
    "    def __process_answer_a(self, lines):\n",
    "        answer_a: dict[dict] = dict()\n",
    "\n",
    "        n_lines = len(lines)\n",
    "\n",
    "        u_beta_lines = [line for line in lines if \"U_beta**2 sum\" in line]\n",
    "\n",
    "        it_values = list()\n",
    "        for line in u_beta_lines:\n",
    "            detail = line.split('  ')\n",
    "            it_values.append(detail[0].split(' ')[1])\n",
    "\n",
    "        unique_it_values = set(it_values)\n",
    "\n",
    "        n_it = len(unique_it_values)\n",
    "\n",
    "        it_collections = dict()\n",
    "\n",
    "        for it in unique_it_values:\n",
    "            temp_set = set()\n",
    "            for line in u_beta_lines:\n",
    "                if it in line:\n",
    "                    v = line.split('  ')[1].split(' ')[1]\n",
    "                    temp_set.add(int(v))\n",
    "            it_collections[it] = list(temp_set)\n",
    "\n",
    "        answer_a = {\n",
    "            \"n_lines\": n_lines,\n",
    "            \"n_it\": n_it,\n",
    "            \"it\": it_collections\n",
    "        }\n",
    "        return answer_a\n",
    "\n",
    "    def __process_answer_b(self, lines):\n",
    "        # TODO\n",
    "        pass\n",
    "\n",
    "    def findmin(self, it, v, df):\n",
    "        # fill in your code to find the smallest log10Ubeta2sum \n",
    "        # among all rows with the same it and v. \n",
    "        # Assign the smallest value to variable smallest. \n",
    "        \n",
    "        # return smallest\n",
    "        return 0"
   ]
  },
  {
   "cell_type": "code",
   "execution_count": 53,
   "id": "0ec32a7b",
   "metadata": {},
   "outputs": [
    {
     "name": "stdout",
     "output_type": "stream",
     "text": [
      "{'n_lines': 5000, 'n_it': 2, 'it': {'164': [0, 2, 4, 5, 10, 16, 19, 20, 26, 36, 37, 39, 41, 43, 47, 55, 56, 61, 62, 64, 72, 84, 92, 95, 100, 101, 105, 106, 176, 177, 178, 179, 180, 181, 182, 183, 184, 185, 186, 187, 188, 189, 190, 191, 192, 193, 195, 196, 197, 198, 199, 200, 201, 202, 203, 204, 205, 206, 208, 209, 210, 211, 212, 213, 214, 215, 216, 217, 218, 219, 220, 221, 222, 223, 224, 225, 226, 227, 228, 229, 230, 231, 232, 233, 234, 235, 236, 237, 238, 239, 240, 241, 242, 243, 244, 245, 246, 247, 248, 249, 250, 251, 252, 253, 254, 255, 256, 257, 258, 259, 260, 261, 262, 263, 264, 265, 266, 267, 268, 269, 270, 271, 272, 273, 274, 275, 276, 277, 278, 279, 280, 281, 282, 283, 284, 285, 286, 287, 288, 290, 291, 292, 293, 294, 295, 296, 297], '166': [0, 1, 2, 3, 4, 5, 6, 7, 8, 9, 10, 11, 12, 13, 14, 15, 16, 17, 18, 19, 20, 21, 22, 23, 24, 25, 26, 27, 29, 30, 31, 32, 33, 34, 35, 36, 37, 38, 39, 40, 41, 42, 43, 44, 45, 46, 47, 48, 49, 50, 51, 52, 53, 54, 55, 56, 57, 58, 59, 60, 61, 62, 63, 64, 65, 66, 67, 68, 69, 70, 71, 72, 73, 74, 75, 76, 77, 78, 79, 80, 81, 82, 83, 84, 85, 86, 87, 88, 89, 90, 91, 92, 93, 94, 95, 97, 98, 99, 100, 101, 102, 103, 104, 105, 106, 179, 181, 182, 187, 192, 202, 212, 214, 217, 223, 229, 244, 245, 246, 248, 252, 259, 261, 264, 270, 271, 273, 274, 277, 282, 286, 296]}}\n"
     ]
    }
   ],
   "source": [
    "hw2 = homework2()"
   ]
  }
 ],
 "metadata": {
  "kernelspec": {
   "display_name": ".venv",
   "language": "python",
   "name": "python3"
  },
  "language_info": {
   "codemirror_mode": {
    "name": "ipython",
    "version": 3
   },
   "file_extension": ".py",
   "mimetype": "text/x-python",
   "name": "python",
   "nbconvert_exporter": "python",
   "pygments_lexer": "ipython3",
   "version": "3.12.6"
  }
 },
 "nbformat": 4,
 "nbformat_minor": 5
}
