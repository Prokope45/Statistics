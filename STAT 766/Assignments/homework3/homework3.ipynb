{
 "cells": [
  {
   "cell_type": "code",
   "execution_count": 33,
   "id": "292e64cf",
   "metadata": {},
   "outputs": [],
   "source": [
    "import os\n",
    "import sqlite3\n",
    "import glob\n",
    "import numpy as np\n",
    "\n",
    "\n",
    "class HW3:\n",
    "\n",
    "    def extract(self, input_files=None, out_db_filename=\"output.sqlite\") -> None:\n",
    "        connection = sqlite3.connect(out_db_filename)\n",
    "        cursor = connection.cursor()\n",
    "\n",
    "        cursor.execute('''\n",
    "        CREATE TABLE IF NOT EXISTS output (it, v, epoch, U_beta_square_sum)\n",
    "        ''')\n",
    "\n",
    "        input_files = glob.glob(\"out*.txt\")\n",
    "        for file_name in input_files:\n",
    "            lines = []\n",
    "            with open(file_name, 'r') as reader:\n",
    "                lines = reader.readlines()\n",
    "                lines = [line.rstrip('\\n') for line in lines]\n",
    "\n",
    "            u_beta_lines = [\n",
    "                line for line in lines\n",
    "                if (line.startswith(\"it=\") and \"U_beta**2\" in line)\n",
    "            ]\n",
    "\n",
    "            it: int = 0\n",
    "            v: int = 0\n",
    "            epoch: int = 0\n",
    "            u: float = 0.0\n",
    "\n",
    "            for line in u_beta_lines:\n",
    "                it_part = line.find(\"it=\")\n",
    "                v_part = line.find(\"v=\")\n",
    "                epoch_part = line.find(\"epoch\")\n",
    "                u_beta_part = line.find(\"U_beta**2\")\n",
    "\n",
    "                it = int(line[it_part:v_part].split()[1])\n",
    "                v = int(line[v_part:epoch_part].split()[1])\n",
    "                epoch = int(line[epoch_part:u_beta_part].split()[1])\n",
    "\n",
    "                u1 = line.find(\"sum is\")\n",
    "                u2 = line.find(\"change\")\n",
    "                u = float(line[(u1+len(\"sum is\")):u2])\n",
    "\n",
    "                cursor.execute('''\n",
    "                INSERT INTO output (it, v, epoch, U_beta_square_sum)\n",
    "                VALUES (?, ?, ?, ?)\n",
    "                ''', (it, v, epoch, u))\n",
    "        connection.commit()\n",
    "        connection.close()\n"
   ]
  },
  {
   "cell_type": "code",
   "execution_count": 34,
   "id": "2dc04e19",
   "metadata": {},
   "outputs": [],
   "source": [
    "hw3 = HW3()\n",
    "hw3.extract()"
   ]
  }
 ],
 "metadata": {
  "kernelspec": {
   "display_name": ".venv",
   "language": "python",
   "name": "python3"
  },
  "language_info": {
   "codemirror_mode": {
    "name": "ipython",
    "version": 3
   },
   "file_extension": ".py",
   "mimetype": "text/x-python",
   "name": "python",
   "nbconvert_exporter": "python",
   "pygments_lexer": "ipython3",
   "version": "3.12.6"
  }
 },
 "nbformat": 4,
 "nbformat_minor": 5
}
