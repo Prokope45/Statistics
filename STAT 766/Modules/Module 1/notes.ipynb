{
 "cells": [
  {
   "cell_type": "code",
   "execution_count": 3,
   "id": "6ad9a365",
   "metadata": {},
   "outputs": [
    {
     "name": "stdout",
     "output_type": "stream",
     "text": [
      "<class 'pandas.core.series.Series'>\n",
      "  Student  Score\n",
      "0   Alice     95\n",
      "1     Bob     88\n"
     ]
    }
   ],
   "source": [
    "import pandas as pd\n",
    "data = {'Student': ['Alice', 'Bob', 'Charlie'], 'Score': [95, 88, 72]}\n",
    "df = pd.DataFrame(data)\n",
    "print(type(df['Score'] > 80))\n",
    "\n",
    "print(df[df['Score'] > 80])"
   ]
  }
 ],
 "metadata": {
  "kernelspec": {
   "display_name": "venv",
   "language": "python",
   "name": "python3"
  },
  "language_info": {
   "codemirror_mode": {
    "name": "ipython",
    "version": 3
   },
   "file_extension": ".py",
   "mimetype": "text/x-python",
   "name": "python",
   "nbconvert_exporter": "python",
   "pygments_lexer": "ipython3",
   "version": "3.12.6"
  }
 },
 "nbformat": 4,
 "nbformat_minor": 5
}
