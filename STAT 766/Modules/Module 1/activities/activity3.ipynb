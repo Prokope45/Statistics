{
 "cells": [
  {
   "cell_type": "code",
   "execution_count": 16,
   "id": "5077f415",
   "metadata": {},
   "outputs": [],
   "source": [
    "import numpy as np\n",
    "\n",
    "def get_odd(array: np.ndarray):\n",
    "    indices: list[int] = list()\n",
    "    for idx, elem in enumerate(array):\n",
    "        if idx % 2 == 1:\n",
    "            indices.append(elem.item())\n",
    "    return indices"
   ]
  },
  {
   "cell_type": "code",
   "execution_count": 17,
   "id": "84d523be",
   "metadata": {},
   "outputs": [
    {
     "data": {
      "text/plain": [
       "[2, 6]"
      ]
     },
     "execution_count": 17,
     "metadata": {},
     "output_type": "execute_result"
    }
   ],
   "source": [
    "get_odd(np.array([0, 2, 4, 6, 8]))"
   ]
  },
  {
   "cell_type": "code",
   "execution_count": 14,
   "id": "4b672b66",
   "metadata": {},
   "outputs": [],
   "source": [
    "def replace_odd(a: np.ndarray):\n",
    "    a2: np.ndarray = a.copy()\n",
    "    for idx, val in enumerate(a2):\n",
    "        if val % 2 == 1:\n",
    "            a2[idx] = -1\n",
    "    return a, a2"
   ]
  },
  {
   "cell_type": "code",
   "execution_count": 15,
   "id": "cd0ccab3",
   "metadata": {},
   "outputs": [
    {
     "data": {
      "text/plain": [
       "(array([1, 3, 2, 4, 5]), array([-1, -1,  2,  4, -1]))"
      ]
     },
     "execution_count": 15,
     "metadata": {},
     "output_type": "execute_result"
    }
   ],
   "source": [
    "replace_odd(np.array([1,3,2,4,5]))"
   ]
  },
  {
   "cell_type": "code",
   "execution_count": 80,
   "id": "a18caa57",
   "metadata": {},
   "outputs": [],
   "source": [
    "def stack_v_h(a, b):\n",
    "    stack = np.vstack((a, b))\n",
    "    stack = np.hstack((stack, stack.copy()))\n",
    "    return stack"
   ]
  },
  {
   "cell_type": "code",
   "execution_count": 81,
   "id": "1487238d",
   "metadata": {},
   "outputs": [
    {
     "data": {
      "text/plain": [
       "array([[0, 1, 2, 3, 4, 0, 1, 2, 3, 4],\n",
       "       [5, 6, 7, 8, 9, 5, 6, 7, 8, 9],\n",
       "       [1, 1, 1, 1, 1, 1, 1, 1, 1, 1],\n",
       "       [1, 1, 1, 1, 1, 1, 1, 1, 1, 1]])"
      ]
     },
     "execution_count": 81,
     "metadata": {},
     "output_type": "execute_result"
    }
   ],
   "source": [
    "a = np.arange(10).reshape(2,-1)\n",
    "b = np.repeat(1, 10).reshape(2,-1)\n",
    "stack_v_h(a, b)"
   ]
  },
  {
   "cell_type": "code",
   "execution_count": null,
   "id": "bb4ffa4b",
   "metadata": {},
   "outputs": [],
   "source": [
    "def get_dif_elem(a, b):\n",
    "    output: list[int] = list()\n",
    "    for x_a, x_b in zip(a, b):\n",
    "        for y_a, y_b in zip(x_a, x_b):\n",
    "            if (y_a != y_b) and len(output) <= 0:\n",
    "                output.append(y_a.item())\n",
    "                output.append(y_b.item())\n",
    "    return output"
   ]
  },
  {
   "cell_type": "code",
   "execution_count": 101,
   "id": "84be9c86",
   "metadata": {},
   "outputs": [
    {
     "data": {
      "text/plain": [
       "[2, 3]"
      ]
     },
     "execution_count": 101,
     "metadata": {},
     "output_type": "execute_result"
    }
   ],
   "source": [
    "a = np.array([[1,2], [3,4]])\n",
    "b= np.array([[1,3], [2, 4]]) \n",
    "get_diff_elem(a, b)"
   ]
  }
 ],
 "metadata": {
  "kernelspec": {
   "display_name": "venv",
   "language": "python",
   "name": "python3"
  },
  "language_info": {
   "codemirror_mode": {
    "name": "ipython",
    "version": 3
   },
   "file_extension": ".py",
   "mimetype": "text/x-python",
   "name": "python",
   "nbconvert_exporter": "python",
   "pygments_lexer": "ipython3",
   "version": "3.12.6"
  }
 },
 "nbformat": 4,
 "nbformat_minor": 5
}
