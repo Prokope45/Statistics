{
 "cells": [
  {
   "cell_type": "markdown",
   "metadata": {},
   "source": [
    "Check out the following properties of pandas DataFrame\n",
    "- .head(4) to show first four rows\n",
    "- .info to check information in data\n",
    "- .select_dtypes(exclude=[np.number]).columns to select non-numeric columns\n",
    "- .get_dummies() to convert categorical variables to dummy variables. Remember to add prefix and drop_first argument\n",
    "- pd.concat()\n",
    "- pd.merge()\n",
    "- .drop\n",
    "- .corr()\n",
    "- .astype()\n",
    "- .apply()  to apply a user defined function to element of a column "
   ]
  },
  {
   "cell_type": "code",
   "execution_count": 46,
   "metadata": {},
   "outputs": [
    {
     "name": "stdout",
     "output_type": "stream",
     "text": [
      "  a1  a2       a3\n",
      "0  g   1      trt\n",
      "1  g   2  control\n",
      "2  d   3      trt\n",
      "3  d   4  control\n",
      "4  e   5      trt\n",
      "5  e   6  control\n"
     ]
    }
   ],
   "source": [
    "import pandas as pd\n",
    "A = pd.DataFrame({'a1': ['g', 'g', 'd', 'd', 'e', 'e'], 'a2':[1,2,3,4,5, 6],\\\n",
    "                   'a3':['trt', 'control', 'trt', 'control', 'trt', 'control']})\n",
    "print(A)\n",
    "#print(A['a1'])\n"
   ]
  },
  {
   "cell_type": "code",
   "execution_count": 6,
   "metadata": {},
   "outputs": [
    {
     "data": {
      "text/plain": [
       "<bound method DataFrame.info of   a1  a2       a3\n",
       "0  g   1      trt\n",
       "1  g   2  control\n",
       "2  d   3      trt\n",
       "3  d   4  control\n",
       "4  e   5      trt\n",
       "5  e   6  control>"
      ]
     },
     "execution_count": 6,
     "metadata": {},
     "output_type": "execute_result"
    }
   ],
   "source": [
    "A.info"
   ]
  },
  {
   "cell_type": "code",
   "execution_count": 32,
   "metadata": {},
   "outputs": [
    {
     "data": {
      "text/plain": [
       "Index(['a1', 'a3'], dtype='object')"
      ]
     },
     "execution_count": 32,
     "metadata": {},
     "output_type": "execute_result"
    }
   ],
   "source": [
    "import numpy as np\n",
    "A.select_dtypes(exclude=[np.number]).columns "
   ]
  },
  {
   "cell_type": "markdown",
   "metadata": {},
   "source": [
    "Convert categorical variable a1 and a3 to numerical values"
   ]
  },
  {
   "cell_type": "code",
   "execution_count": 9,
   "metadata": {},
   "outputs": [
    {
     "name": "stdout",
     "output_type": "stream",
     "text": [
      "    a1_d   a1_e   a1_g\n",
      "0  False  False   True\n",
      "1  False  False   True\n",
      "2   True  False  False\n",
      "3   True  False  False\n",
      "4  False   True  False\n",
      "5  False   True  False\n"
     ]
    }
   ],
   "source": [
    "print(pd.get_dummies(A['a1'], prefix = 'a1'))"
   ]
  },
  {
   "cell_type": "code",
   "execution_count": 47,
   "metadata": {},
   "outputs": [
    {
     "name": "stdout",
     "output_type": "stream",
     "text": [
      "   a1_d  a1_e  a1_g\n",
      "0     0     0     1\n",
      "1     0     0     1\n",
      "2     1     0     0\n",
      "3     1     0     0\n",
      "4     0     1     0\n",
      "5     0     1     0\n",
      "      a1_d  a1_e  a1_g\n",
      "a1_d   1.0  -0.5  -0.5\n",
      "a1_e  -0.5   1.0  -0.5\n",
      "a1_g  -0.5  -0.5   1.0\n"
     ]
    }
   ],
   "source": [
    "\n",
    "a1_1 = pd.get_dummies(A['a1'], prefix = 'a1').astype('int')\n",
    "print(a1_1)\n",
    "print(a1_1.corr())\n"
   ]
  },
  {
   "cell_type": "code",
   "execution_count": 48,
   "metadata": {},
   "outputs": [
    {
     "name": "stdout",
     "output_type": "stream",
     "text": [
      "   a3_control  a3_trt\n",
      "0           0       1\n",
      "1           1       0\n",
      "2           0       1\n",
      "3           1       0\n",
      "4           0       1\n",
      "5           1       0\n",
      "            a3_control  a3_trt\n",
      "a3_control         1.0    -1.0\n",
      "a3_trt            -1.0     1.0\n"
     ]
    }
   ],
   "source": [
    "a3_1 = pd.get_dummies(A['a3'], prefix = 'a3').astype('int')\n",
    "print(a3_1)\n",
    "print(a3_1.corr())"
   ]
  },
  {
   "cell_type": "code",
   "execution_count": 34,
   "metadata": {},
   "outputs": [
    {
     "name": "stdout",
     "output_type": "stream",
     "text": [
      "['a', 'b', 'c', 'a', 'b', 'c', 'a', 'b', 'c', 'a', 'b', 'c']\n"
     ]
    }
   ],
   "source": [
    "x=['a','b', 'c']*4\n",
    "print(x)\n",
    "temp = pd.Series(x)\n",
    "#temp\n"
   ]
  },
  {
   "cell_type": "code",
   "execution_count": 35,
   "metadata": {},
   "outputs": [
    {
     "name": "stdout",
     "output_type": "stream",
     "text": [
      "    a  b  c\n",
      "0   1  0  0\n",
      "1   0  1  0\n",
      "2   0  0  1\n",
      "3   1  0  0\n",
      "4   0  1  0\n",
      "5   0  0  1\n",
      "6   1  0  0\n",
      "7   0  1  0\n",
      "8   0  0  1\n",
      "9   1  0  0\n",
      "10  0  1  0\n",
      "11  0  0  1\n"
     ]
    },
    {
     "data": {
      "text/html": [
       "<div>\n",
       "<style scoped>\n",
       "    .dataframe tbody tr th:only-of-type {\n",
       "        vertical-align: middle;\n",
       "    }\n",
       "\n",
       "    .dataframe tbody tr th {\n",
       "        vertical-align: top;\n",
       "    }\n",
       "\n",
       "    .dataframe thead th {\n",
       "        text-align: right;\n",
       "    }\n",
       "</style>\n",
       "<table border=\"1\" class=\"dataframe\">\n",
       "  <thead>\n",
       "    <tr style=\"text-align: right;\">\n",
       "      <th></th>\n",
       "      <th>a</th>\n",
       "      <th>b</th>\n",
       "      <th>c</th>\n",
       "    </tr>\n",
       "  </thead>\n",
       "  <tbody>\n",
       "    <tr>\n",
       "      <th>a</th>\n",
       "      <td>1.0</td>\n",
       "      <td>-0.5</td>\n",
       "      <td>-0.5</td>\n",
       "    </tr>\n",
       "    <tr>\n",
       "      <th>b</th>\n",
       "      <td>-0.5</td>\n",
       "      <td>1.0</td>\n",
       "      <td>-0.5</td>\n",
       "    </tr>\n",
       "    <tr>\n",
       "      <th>c</th>\n",
       "      <td>-0.5</td>\n",
       "      <td>-0.5</td>\n",
       "      <td>1.0</td>\n",
       "    </tr>\n",
       "  </tbody>\n",
       "</table>\n",
       "</div>"
      ],
      "text/plain": [
       "     a    b    c\n",
       "a  1.0 -0.5 -0.5\n",
       "b -0.5  1.0 -0.5\n",
       "c -0.5 -0.5  1.0"
      ]
     },
     "execution_count": 35,
     "metadata": {},
     "output_type": "execute_result"
    }
   ],
   "source": [
    "temp_1 = pd.get_dummies(temp).astype(int)\n",
    "print(temp_1 )\n",
    "temp_1.corr()"
   ]
  },
  {
   "cell_type": "code",
   "execution_count": 36,
   "metadata": {},
   "outputs": [
    {
     "data": {
      "text/html": [
       "<div>\n",
       "<style scoped>\n",
       "    .dataframe tbody tr th:only-of-type {\n",
       "        vertical-align: middle;\n",
       "    }\n",
       "\n",
       "    .dataframe tbody tr th {\n",
       "        vertical-align: top;\n",
       "    }\n",
       "\n",
       "    .dataframe thead th {\n",
       "        text-align: right;\n",
       "    }\n",
       "</style>\n",
       "<table border=\"1\" class=\"dataframe\">\n",
       "  <thead>\n",
       "    <tr style=\"text-align: right;\">\n",
       "      <th></th>\n",
       "      <th>a</th>\n",
       "      <th>b</th>\n",
       "      <th>c</th>\n",
       "      <th>e</th>\n",
       "    </tr>\n",
       "  </thead>\n",
       "  <tbody>\n",
       "    <tr>\n",
       "      <th>a</th>\n",
       "      <td>1.000000</td>\n",
       "      <td>-0.333333</td>\n",
       "      <td>-0.333333</td>\n",
       "      <td>-0.333333</td>\n",
       "    </tr>\n",
       "    <tr>\n",
       "      <th>b</th>\n",
       "      <td>-0.333333</td>\n",
       "      <td>1.000000</td>\n",
       "      <td>-0.333333</td>\n",
       "      <td>-0.333333</td>\n",
       "    </tr>\n",
       "    <tr>\n",
       "      <th>c</th>\n",
       "      <td>-0.333333</td>\n",
       "      <td>-0.333333</td>\n",
       "      <td>1.000000</td>\n",
       "      <td>-0.333333</td>\n",
       "    </tr>\n",
       "    <tr>\n",
       "      <th>e</th>\n",
       "      <td>-0.333333</td>\n",
       "      <td>-0.333333</td>\n",
       "      <td>-0.333333</td>\n",
       "      <td>1.000000</td>\n",
       "    </tr>\n",
       "  </tbody>\n",
       "</table>\n",
       "</div>"
      ],
      "text/plain": [
       "          a         b         c         e\n",
       "a  1.000000 -0.333333 -0.333333 -0.333333\n",
       "b -0.333333  1.000000 -0.333333 -0.333333\n",
       "c -0.333333 -0.333333  1.000000 -0.333333\n",
       "e -0.333333 -0.333333 -0.333333  1.000000"
      ]
     },
     "execution_count": 36,
     "metadata": {},
     "output_type": "execute_result"
    }
   ],
   "source": [
    "x=['a','b', 'c','e']*10\n",
    "#print(x)\n",
    "temp = pd.Series(x)\n",
    "temp_1 = pd.get_dummies(temp).astype(int)\n",
    "#print(temp_1 )\n",
    "temp_1.corr()"
   ]
  },
  {
   "cell_type": "code",
   "execution_count": 23,
   "metadata": {},
   "outputs": [
    {
     "data": {
      "text/html": [
       "<div>\n",
       "<style scoped>\n",
       "    .dataframe tbody tr th:only-of-type {\n",
       "        vertical-align: middle;\n",
       "    }\n",
       "\n",
       "    .dataframe tbody tr th {\n",
       "        vertical-align: top;\n",
       "    }\n",
       "\n",
       "    .dataframe thead th {\n",
       "        text-align: right;\n",
       "    }\n",
       "</style>\n",
       "<table border=\"1\" class=\"dataframe\">\n",
       "  <thead>\n",
       "    <tr style=\"text-align: right;\">\n",
       "      <th></th>\n",
       "      <th>a</th>\n",
       "      <th>b</th>\n",
       "      <th>c</th>\n",
       "      <th>e</th>\n",
       "      <th>f</th>\n",
       "    </tr>\n",
       "  </thead>\n",
       "  <tbody>\n",
       "    <tr>\n",
       "      <th>a</th>\n",
       "      <td>1.00</td>\n",
       "      <td>-0.25</td>\n",
       "      <td>-0.25</td>\n",
       "      <td>-0.25</td>\n",
       "      <td>-0.25</td>\n",
       "    </tr>\n",
       "    <tr>\n",
       "      <th>b</th>\n",
       "      <td>-0.25</td>\n",
       "      <td>1.00</td>\n",
       "      <td>-0.25</td>\n",
       "      <td>-0.25</td>\n",
       "      <td>-0.25</td>\n",
       "    </tr>\n",
       "    <tr>\n",
       "      <th>c</th>\n",
       "      <td>-0.25</td>\n",
       "      <td>-0.25</td>\n",
       "      <td>1.00</td>\n",
       "      <td>-0.25</td>\n",
       "      <td>-0.25</td>\n",
       "    </tr>\n",
       "    <tr>\n",
       "      <th>e</th>\n",
       "      <td>-0.25</td>\n",
       "      <td>-0.25</td>\n",
       "      <td>-0.25</td>\n",
       "      <td>1.00</td>\n",
       "      <td>-0.25</td>\n",
       "    </tr>\n",
       "    <tr>\n",
       "      <th>f</th>\n",
       "      <td>-0.25</td>\n",
       "      <td>-0.25</td>\n",
       "      <td>-0.25</td>\n",
       "      <td>-0.25</td>\n",
       "      <td>1.00</td>\n",
       "    </tr>\n",
       "  </tbody>\n",
       "</table>\n",
       "</div>"
      ],
      "text/plain": [
       "      a     b     c     e     f\n",
       "a  1.00 -0.25 -0.25 -0.25 -0.25\n",
       "b -0.25  1.00 -0.25 -0.25 -0.25\n",
       "c -0.25 -0.25  1.00 -0.25 -0.25\n",
       "e -0.25 -0.25 -0.25  1.00 -0.25\n",
       "f -0.25 -0.25 -0.25 -0.25  1.00"
      ]
     },
     "execution_count": 23,
     "metadata": {},
     "output_type": "execute_result"
    }
   ],
   "source": [
    "x=['a','b', 'c','e', 'f']*10\n",
    "#print(x)\n",
    "temp = pd.Series(x)\n",
    "temp_1 = pd.get_dummies(temp).astype(int)\n",
    "#print(temp_1 )\n",
    "temp_1.corr()"
   ]
  },
  {
   "cell_type": "code",
   "execution_count": 24,
   "metadata": {},
   "outputs": [
    {
     "data": {
      "text/html": [
       "<div>\n",
       "<style scoped>\n",
       "    .dataframe tbody tr th:only-of-type {\n",
       "        vertical-align: middle;\n",
       "    }\n",
       "\n",
       "    .dataframe tbody tr th {\n",
       "        vertical-align: top;\n",
       "    }\n",
       "\n",
       "    .dataframe thead th {\n",
       "        text-align: right;\n",
       "    }\n",
       "</style>\n",
       "<table border=\"1\" class=\"dataframe\">\n",
       "  <thead>\n",
       "    <tr style=\"text-align: right;\">\n",
       "      <th></th>\n",
       "      <th>a</th>\n",
       "      <th>b</th>\n",
       "      <th>c</th>\n",
       "      <th>e</th>\n",
       "      <th>f</th>\n",
       "      <th>g</th>\n",
       "    </tr>\n",
       "  </thead>\n",
       "  <tbody>\n",
       "    <tr>\n",
       "      <th>a</th>\n",
       "      <td>1.0</td>\n",
       "      <td>-0.2</td>\n",
       "      <td>-0.2</td>\n",
       "      <td>-0.2</td>\n",
       "      <td>-0.2</td>\n",
       "      <td>-0.2</td>\n",
       "    </tr>\n",
       "    <tr>\n",
       "      <th>b</th>\n",
       "      <td>-0.2</td>\n",
       "      <td>1.0</td>\n",
       "      <td>-0.2</td>\n",
       "      <td>-0.2</td>\n",
       "      <td>-0.2</td>\n",
       "      <td>-0.2</td>\n",
       "    </tr>\n",
       "    <tr>\n",
       "      <th>c</th>\n",
       "      <td>-0.2</td>\n",
       "      <td>-0.2</td>\n",
       "      <td>1.0</td>\n",
       "      <td>-0.2</td>\n",
       "      <td>-0.2</td>\n",
       "      <td>-0.2</td>\n",
       "    </tr>\n",
       "    <tr>\n",
       "      <th>e</th>\n",
       "      <td>-0.2</td>\n",
       "      <td>-0.2</td>\n",
       "      <td>-0.2</td>\n",
       "      <td>1.0</td>\n",
       "      <td>-0.2</td>\n",
       "      <td>-0.2</td>\n",
       "    </tr>\n",
       "    <tr>\n",
       "      <th>f</th>\n",
       "      <td>-0.2</td>\n",
       "      <td>-0.2</td>\n",
       "      <td>-0.2</td>\n",
       "      <td>-0.2</td>\n",
       "      <td>1.0</td>\n",
       "      <td>-0.2</td>\n",
       "    </tr>\n",
       "    <tr>\n",
       "      <th>g</th>\n",
       "      <td>-0.2</td>\n",
       "      <td>-0.2</td>\n",
       "      <td>-0.2</td>\n",
       "      <td>-0.2</td>\n",
       "      <td>-0.2</td>\n",
       "      <td>1.0</td>\n",
       "    </tr>\n",
       "  </tbody>\n",
       "</table>\n",
       "</div>"
      ],
      "text/plain": [
       "     a    b    c    e    f    g\n",
       "a  1.0 -0.2 -0.2 -0.2 -0.2 -0.2\n",
       "b -0.2  1.0 -0.2 -0.2 -0.2 -0.2\n",
       "c -0.2 -0.2  1.0 -0.2 -0.2 -0.2\n",
       "e -0.2 -0.2 -0.2  1.0 -0.2 -0.2\n",
       "f -0.2 -0.2 -0.2 -0.2  1.0 -0.2\n",
       "g -0.2 -0.2 -0.2 -0.2 -0.2  1.0"
      ]
     },
     "execution_count": 24,
     "metadata": {},
     "output_type": "execute_result"
    }
   ],
   "source": [
    "x=['a','b', 'c','e','f', 'g']*10\n",
    "#print(x)\n",
    "temp = pd.Series(x)\n",
    "temp_1 = pd.get_dummies(temp).astype(int)\n",
    "#print(temp_1 )\n",
    "temp_1.corr()"
   ]
  },
  {
   "cell_type": "code",
   "execution_count": 49,
   "metadata": {},
   "outputs": [
    {
     "name": "stdout",
     "output_type": "stream",
     "text": [
      "  a1  a2       a3  a1_d  a1_e  a1_g  a3_control  a3_trt\n",
      "0  g   1      trt     0     0     1           0       1\n",
      "1  g   2  control     0     0     1           1       0\n",
      "2  d   3      trt     1     0     0           0       1\n",
      "3  d   4  control     1     0     0           1       0\n",
      "4  e   5      trt     0     1     0           0       1\n",
      "5  e   6  control     0     1     0           1       0\n"
     ]
    }
   ],
   "source": [
    "A = pd.concat([A, a1_1, a3_1], axis = 1)\n",
    "print(A)"
   ]
  },
  {
   "cell_type": "code",
   "execution_count": 50,
   "metadata": {},
   "outputs": [
    {
     "name": "stdout",
     "output_type": "stream",
     "text": [
      "   a2  a1_e  a1_g  a3_trt\n",
      "0   1     0     1       1\n",
      "1   2     0     1       0\n",
      "2   3     0     0       1\n",
      "3   4     0     0       0\n",
      "4   5     1     0       1\n",
      "5   6     1     0       0\n",
      "              a2      a1_e      a1_g   a3_trt\n",
      "a2      1.000000  0.828079 -0.828079 -0.29277\n",
      "a1_e    0.828079  1.000000 -0.500000  0.00000\n",
      "a1_g   -0.828079 -0.500000  1.000000  0.00000\n",
      "a3_trt -0.292770  0.000000  0.000000  1.00000\n"
     ]
    }
   ],
   "source": [
    "A = A.drop(['a1', 'a3', 'a1_d', 'a3_control'], axis= 1)\n",
    "print(A)\n",
    "print(A.corr())"
   ]
  },
  {
   "cell_type": "markdown",
   "metadata": {},
   "source": [
    "If the dimension of A is large, it is better to use heatmap to show the strongth of correlation."
   ]
  },
  {
   "cell_type": "code",
   "execution_count": 39,
   "metadata": {},
   "outputs": [
    {
     "data": {
      "text/plain": [
       "<Axes: >"
      ]
     },
     "execution_count": 39,
     "metadata": {},
     "output_type": "execute_result"
    },
    {
     "data": {
      "image/png": "[encoded data removed]",
      "text/plain": [
       "<Figure size 640x480 with 2 Axes>"
      ]
     },
     "metadata": {},
     "output_type": "display_data"
    }
   ],
   "source": [
    "import seaborn as sn\n",
    "sn.heatmap(A.corr(), annot=True)"
   ]
  },
  {
   "cell_type": "markdown",
   "metadata": {},
   "source": [
    "- We created dummy variables for categorical variable a1. They are indicator variables. \n",
    "- When we declare X, we drop Weight_0, Marital_0, Gender_0, and Stress_0 to avoid multicollineary.\n",
    "- The dummy varaiables may or MAY NOT be highly correlated. The number of unique values determine the strength of correlation. The more the number of unique values, the less correlated. \n",
    "- Generally, we remove one dummy variable (e.g., a1_d)  of each categorial variable. The one  being removed serves as the baseline for a1. (equivalent to contrast coding created by design.matrix in R)\n",
    "- In earlier examples, we manually dropped one of the dummy variables. This could be done directly with drop_first argument in the .get_dummies command\n",
    "pd.get_dummies(temp, prefix ='temp', drop_first=True)\n",
    "\n",
    "               "
   ]
  },
  {
   "cell_type": "code",
   "execution_count": 59,
   "metadata": {},
   "outputs": [
    {
     "name": "stdout",
     "output_type": "stream",
     "text": [
      "   a2  a1_e  a1_g  a3_trt\n",
      "0   1     0     1       1\n",
      "1   2     0     1       0\n",
      "2   3     0     0       1\n",
      "3   4     0     0       0\n",
      "4   5     1     0       1\n",
      "5   6     1     0       0\n"
     ]
    }
   ],
   "source": [
    "A = pd.DataFrame({'a1': ['g', 'g', 'd', 'd', 'e', 'e'], 'a2':[1,2,3,4,5, 6],\\\n",
    "                   'a3':['trt', 'control', 'trt', 'control', 'trt', 'control']})\n",
    "a1_a = pd.get_dummies(A['a1'], prefix ='a1', drop_first = True).astype('int')   \n",
    "a3_a = pd.get_dummies(A['a3'], prefix ='a3', drop_first = True).astype('int')    \n",
    "new_A = pd.concat([A.drop(['a1', 'a3'], axis=1), a1_a, a3_a], axis=1) \n",
    "print(new_A)"
   ]
  },
  {
   "cell_type": "markdown",
   "metadata": {},
   "source": [
    "Note\n",
    "Sometimes there are too many unique values in a categorical variable. In this case, sometimes we can convert the categorical variable's values to integers with LabelEncoder from sklearn.preprocessing. However, such created variable are not real numerical variable. Modeling with such created variable may be confusing. "
   ]
  },
  {
   "cell_type": "code",
   "execution_count": 60,
   "metadata": {},
   "outputs": [
    {
     "data": {
      "text/plain": [
       "array([2, 2, 0, 0, 1, 1])"
      ]
     },
     "execution_count": 60,
     "metadata": {},
     "output_type": "execute_result"
    }
   ],
   "source": [
    "from sklearn.preprocessing import LabelEncoder \n",
    "label_encoder = LabelEncoder() \n",
    "label_encoder.fit_transform(A['a1']) "
   ]
  },
  {
   "cell_type": "code",
   "execution_count": 51,
   "metadata": {},
   "outputs": [
    {
     "name": "stdout",
     "output_type": "stream",
     "text": [
      "0     2.54\n",
      "1     5.08\n",
      "2     7.62\n",
      "3    10.16\n",
      "4    12.70\n",
      "5    15.24\n",
      "Name: a2, dtype: float64\n"
     ]
    }
   ],
   "source": [
    "# some simple numberical calculations can be done directly on pd DataFrame but some couldn't (such as log())\n",
    "print(A['a2']*2.54)\n"
   ]
  },
  {
   "cell_type": "code",
   "execution_count": 53,
   "metadata": {},
   "outputs": [
    {
     "name": "stdout",
     "output_type": "stream",
     "text": [
      "   a2  a1_e  a1_g  a3_trt    log_a2\n",
      "0   1     0     1       1  0.000000\n",
      "1   2     0     1       0  0.693147\n",
      "2   3     0     0       1  1.098612\n",
      "3   4     0     0       0  1.386294\n",
      "4   5     1     0       1  1.609438\n",
      "5   6     1     0       0  1.791759\n"
     ]
    }
   ],
   "source": [
    "# x is a column from a pd DataFrame\n",
    "def myfun(x):\n",
    "    return np.log(x)\n",
    "\n",
    "A['log_a2'] = A['a2'].apply(myfun)\n",
    "print(A)"
   ]
  }
 ],
 "metadata": {
  "language_info": {
   "name": "python"
  }
 },
 "nbformat": 4,
 "nbformat_minor": 2
}
