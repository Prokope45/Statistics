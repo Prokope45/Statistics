{
 "cells": [
  {
   "cell_type": "markdown",
   "id": "bd8bb6fe",
   "metadata": {},
   "source": [
    "# Model Deployment\n",
    "\n",
    "Can use Dash/Plotly with Streamlit to visualize data/analysis."
   ]
  },
  {
   "cell_type": "code",
   "execution_count": 2,
   "id": "7f1075cc",
   "metadata": {},
   "outputs": [],
   "source": [
    "import sqlite3\n",
    "conn = sqlite3.connect(\"project.db\")"
   ]
  },
  {
   "cell_type": "code",
   "execution_count": 4,
   "id": "485b37d4",
   "metadata": {},
   "outputs": [
    {
     "data": {
      "text/plain": [
       "<sqlite3.Cursor at 0x10508d640>"
      ]
     },
     "execution_count": 4,
     "metadata": {},
     "output_type": "execute_result"
    }
   ],
   "source": [
    "cur = conn.cursor()\n",
    "sql = \"CREATE TABLE IF NOT EXISTS Projects2025 (name, date, description)\"\n",
    "cur.execute(sql)\n",
    "# cur.commit()"
   ]
  }
 ],
 "metadata": {
  "kernelspec": {
   "display_name": ".venv",
   "language": "python",
   "name": "python3"
  },
  "language_info": {
   "codemirror_mode": {
    "name": "ipython",
    "version": 3
   },
   "file_extension": ".py",
   "mimetype": "text/x-python",
   "name": "python",
   "nbconvert_exporter": "python",
   "pygments_lexer": "ipython3",
   "version": "3.12.6"
  }
 },
 "nbformat": 4,
 "nbformat_minor": 5
}
